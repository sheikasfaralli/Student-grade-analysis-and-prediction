{
 "cells": [
  {
   "cell_type": "code",
   "execution_count": 2,
   "id": "4d042962",
   "metadata": {},
   "outputs": [],
   "source": [
    "import pandas as pd\n",
    "import matplotlib.pyplot as plt"
   ]
  },
  {
   "cell_type": "code",
   "execution_count": 3,
   "id": "2adcd1a4",
   "metadata": {},
   "outputs": [],
   "source": [
    "df = pd.read_csv(\"datatpro1.csv\")"
   ]
  },
  {
   "cell_type": "code",
   "execution_count": 4,
   "id": "89065314",
   "metadata": {},
   "outputs": [
    {
     "data": {
      "text/html": [
       "<div>\n",
       "<style scoped>\n",
       "    .dataframe tbody tr th:only-of-type {\n",
       "        vertical-align: middle;\n",
       "    }\n",
       "\n",
       "    .dataframe tbody tr th {\n",
       "        vertical-align: top;\n",
       "    }\n",
       "\n",
       "    .dataframe thead th {\n",
       "        text-align: right;\n",
       "    }\n",
       "</style>\n",
       "<table border=\"1\" class=\"dataframe\">\n",
       "  <thead>\n",
       "    <tr style=\"text-align: right;\">\n",
       "      <th></th>\n",
       "      <th>DAA</th>\n",
       "      <th>OS</th>\n",
       "      <th>COA</th>\n",
       "      <th>College Code</th>\n",
       "      <th>Gender</th>\n",
       "      <th>Roll no</th>\n",
       "      <th>Math</th>\n",
       "      <th>Physics</th>\n",
       "      <th>PPS</th>\n",
       "      <th>1st SEM Percentage</th>\n",
       "      <th>2nd SEM Percentage</th>\n",
       "      <th>Average</th>\n",
       "    </tr>\n",
       "  </thead>\n",
       "  <tbody>\n",
       "    <tr>\n",
       "      <th>0</th>\n",
       "      <td>32</td>\n",
       "      <td>69</td>\n",
       "      <td>34</td>\n",
       "      <td>115</td>\n",
       "      <td>Female</td>\n",
       "      <td>17020</td>\n",
       "      <td>61</td>\n",
       "      <td>37</td>\n",
       "      <td>83</td>\n",
       "      <td>61</td>\n",
       "      <td>45</td>\n",
       "      <td>53.0</td>\n",
       "    </tr>\n",
       "    <tr>\n",
       "      <th>1</th>\n",
       "      <td>94</td>\n",
       "      <td>43</td>\n",
       "      <td>44</td>\n",
       "      <td>115</td>\n",
       "      <td>Male</td>\n",
       "      <td>17021</td>\n",
       "      <td>62</td>\n",
       "      <td>87</td>\n",
       "      <td>55</td>\n",
       "      <td>68</td>\n",
       "      <td>61</td>\n",
       "      <td>64.5</td>\n",
       "    </tr>\n",
       "    <tr>\n",
       "      <th>2</th>\n",
       "      <td>87</td>\n",
       "      <td>78</td>\n",
       "      <td>72</td>\n",
       "      <td>115</td>\n",
       "      <td>Female</td>\n",
       "      <td>17022</td>\n",
       "      <td>51</td>\n",
       "      <td>54</td>\n",
       "      <td>32</td>\n",
       "      <td>46</td>\n",
       "      <td>79</td>\n",
       "      <td>62.5</td>\n",
       "    </tr>\n",
       "    <tr>\n",
       "      <th>3</th>\n",
       "      <td>68</td>\n",
       "      <td>68</td>\n",
       "      <td>30</td>\n",
       "      <td>115</td>\n",
       "      <td>Male</td>\n",
       "      <td>17023</td>\n",
       "      <td>76</td>\n",
       "      <td>91</td>\n",
       "      <td>44</td>\n",
       "      <td>71</td>\n",
       "      <td>56</td>\n",
       "      <td>63.5</td>\n",
       "    </tr>\n",
       "    <tr>\n",
       "      <th>4</th>\n",
       "      <td>46</td>\n",
       "      <td>68</td>\n",
       "      <td>33</td>\n",
       "      <td>115</td>\n",
       "      <td>Male</td>\n",
       "      <td>17024</td>\n",
       "      <td>90</td>\n",
       "      <td>95</td>\n",
       "      <td>91</td>\n",
       "      <td>92</td>\n",
       "      <td>49</td>\n",
       "      <td>70.5</td>\n",
       "    </tr>\n",
       "    <tr>\n",
       "      <th>...</th>\n",
       "      <td>...</td>\n",
       "      <td>...</td>\n",
       "      <td>...</td>\n",
       "      <td>...</td>\n",
       "      <td>...</td>\n",
       "      <td>...</td>\n",
       "      <td>...</td>\n",
       "      <td>...</td>\n",
       "      <td>...</td>\n",
       "      <td>...</td>\n",
       "      <td>...</td>\n",
       "      <td>...</td>\n",
       "    </tr>\n",
       "    <tr>\n",
       "      <th>173</th>\n",
       "      <td>60</td>\n",
       "      <td>92</td>\n",
       "      <td>70</td>\n",
       "      <td>241</td>\n",
       "      <td>Female</td>\n",
       "      <td>17193</td>\n",
       "      <td>35</td>\n",
       "      <td>47</td>\n",
       "      <td>31</td>\n",
       "      <td>38</td>\n",
       "      <td>74</td>\n",
       "      <td>56.0</td>\n",
       "    </tr>\n",
       "    <tr>\n",
       "      <th>174</th>\n",
       "      <td>56</td>\n",
       "      <td>97</td>\n",
       "      <td>43</td>\n",
       "      <td>241</td>\n",
       "      <td>Male</td>\n",
       "      <td>17194</td>\n",
       "      <td>37</td>\n",
       "      <td>94</td>\n",
       "      <td>54</td>\n",
       "      <td>62</td>\n",
       "      <td>66</td>\n",
       "      <td>64.0</td>\n",
       "    </tr>\n",
       "    <tr>\n",
       "      <th>175</th>\n",
       "      <td>97</td>\n",
       "      <td>37</td>\n",
       "      <td>65</td>\n",
       "      <td>241</td>\n",
       "      <td>Male</td>\n",
       "      <td>17195</td>\n",
       "      <td>45</td>\n",
       "      <td>57</td>\n",
       "      <td>67</td>\n",
       "      <td>57</td>\n",
       "      <td>67</td>\n",
       "      <td>62.0</td>\n",
       "    </tr>\n",
       "    <tr>\n",
       "      <th>176</th>\n",
       "      <td>88</td>\n",
       "      <td>88</td>\n",
       "      <td>41</td>\n",
       "      <td>241</td>\n",
       "      <td>Male</td>\n",
       "      <td>17196</td>\n",
       "      <td>51</td>\n",
       "      <td>77</td>\n",
       "      <td>69</td>\n",
       "      <td>66</td>\n",
       "      <td>73</td>\n",
       "      <td>69.5</td>\n",
       "    </tr>\n",
       "    <tr>\n",
       "      <th>177</th>\n",
       "      <td>91</td>\n",
       "      <td>54</td>\n",
       "      <td>95</td>\n",
       "      <td>241</td>\n",
       "      <td>Male</td>\n",
       "      <td>17197</td>\n",
       "      <td>79</td>\n",
       "      <td>46</td>\n",
       "      <td>52</td>\n",
       "      <td>59</td>\n",
       "      <td>80</td>\n",
       "      <td>69.5</td>\n",
       "    </tr>\n",
       "  </tbody>\n",
       "</table>\n",
       "<p>178 rows × 12 columns</p>\n",
       "</div>"
      ],
      "text/plain": [
       "     DAA  OS  COA  College Code  Gender  Roll no  Math  Physics  PPS  \\\n",
       "0     32  69   34           115  Female    17020    61       37   83   \n",
       "1     94  43   44           115    Male    17021    62       87   55   \n",
       "2     87  78   72           115  Female    17022    51       54   32   \n",
       "3     68  68   30           115    Male    17023    76       91   44   \n",
       "4     46  68   33           115    Male    17024    90       95   91   \n",
       "..   ...  ..  ...           ...     ...      ...   ...      ...  ...   \n",
       "173   60  92   70           241  Female    17193    35       47   31   \n",
       "174   56  97   43           241    Male    17194    37       94   54   \n",
       "175   97  37   65           241    Male    17195    45       57   67   \n",
       "176   88  88   41           241    Male    17196    51       77   69   \n",
       "177   91  54   95           241    Male    17197    79       46   52   \n",
       "\n",
       "     1st SEM Percentage  2nd SEM Percentage  Average  \n",
       "0                    61                  45     53.0  \n",
       "1                    68                  61     64.5  \n",
       "2                    46                  79     62.5  \n",
       "3                    71                  56     63.5  \n",
       "4                    92                  49     70.5  \n",
       "..                  ...                 ...      ...  \n",
       "173                  38                  74     56.0  \n",
       "174                  62                  66     64.0  \n",
       "175                  57                  67     62.0  \n",
       "176                  66                  73     69.5  \n",
       "177                  59                  80     69.5  \n",
       "\n",
       "[178 rows x 12 columns]"
      ]
     },
     "execution_count": 4,
     "metadata": {},
     "output_type": "execute_result"
    }
   ],
   "source": [
    "df"
   ]
  },
  {
   "cell_type": "code",
   "execution_count": 5,
   "id": "0f78d2be",
   "metadata": {},
   "outputs": [
    {
     "data": {
      "text/plain": [
       "(178, 12)"
      ]
     },
     "execution_count": 5,
     "metadata": {},
     "output_type": "execute_result"
    }
   ],
   "source": [
    "df.shape"
   ]
  },
  {
   "cell_type": "code",
   "execution_count": 6,
   "id": "84890f6f",
   "metadata": {},
   "outputs": [
    {
     "name": "stdout",
     "output_type": "stream",
     "text": [
      "<class 'pandas.core.frame.DataFrame'>\n",
      "RangeIndex: 178 entries, 0 to 177\n",
      "Data columns (total 12 columns):\n",
      " #   Column              Non-Null Count  Dtype  \n",
      "---  ------              --------------  -----  \n",
      " 0   DAA                 178 non-null    int64  \n",
      " 1   OS                  178 non-null    int64  \n",
      " 2   COA                 178 non-null    int64  \n",
      " 3   College Code        178 non-null    int64  \n",
      " 4   Gender              178 non-null    object \n",
      " 5   Roll no             178 non-null    int64  \n",
      " 6   Math                178 non-null    int64  \n",
      " 7   Physics             178 non-null    int64  \n",
      " 8   PPS                 178 non-null    int64  \n",
      " 9   1st SEM Percentage  178 non-null    int64  \n",
      " 10  2nd SEM Percentage  178 non-null    int64  \n",
      " 11  Average             178 non-null    float64\n",
      "dtypes: float64(1), int64(10), object(1)\n",
      "memory usage: 16.8+ KB\n"
     ]
    }
   ],
   "source": [
    "df.info()"
   ]
  },
  {
   "cell_type": "code",
   "execution_count": 7,
   "id": "b09b4263",
   "metadata": {},
   "outputs": [
    {
     "data": {
      "text/html": [
       "<div>\n",
       "<style scoped>\n",
       "    .dataframe tbody tr th:only-of-type {\n",
       "        vertical-align: middle;\n",
       "    }\n",
       "\n",
       "    .dataframe tbody tr th {\n",
       "        vertical-align: top;\n",
       "    }\n",
       "\n",
       "    .dataframe thead th {\n",
       "        text-align: right;\n",
       "    }\n",
       "</style>\n",
       "<table border=\"1\" class=\"dataframe\">\n",
       "  <thead>\n",
       "    <tr style=\"text-align: right;\">\n",
       "      <th></th>\n",
       "      <th>DAA</th>\n",
       "      <th>OS</th>\n",
       "      <th>COA</th>\n",
       "      <th>College Code</th>\n",
       "      <th>Roll no</th>\n",
       "      <th>Math</th>\n",
       "      <th>Physics</th>\n",
       "      <th>PPS</th>\n",
       "      <th>1st SEM Percentage</th>\n",
       "      <th>2nd SEM Percentage</th>\n",
       "      <th>Average</th>\n",
       "    </tr>\n",
       "  </thead>\n",
       "  <tbody>\n",
       "    <tr>\n",
       "      <th>count</th>\n",
       "      <td>178.000000</td>\n",
       "      <td>178.000000</td>\n",
       "      <td>178.000000</td>\n",
       "      <td>178.000000</td>\n",
       "      <td>178.000000</td>\n",
       "      <td>178.000000</td>\n",
       "      <td>178.000000</td>\n",
       "      <td>178.000000</td>\n",
       "      <td>178.000000</td>\n",
       "      <td>178.000000</td>\n",
       "      <td>178.000000</td>\n",
       "    </tr>\n",
       "    <tr>\n",
       "      <th>mean</th>\n",
       "      <td>63.101124</td>\n",
       "      <td>63.162921</td>\n",
       "      <td>64.134831</td>\n",
       "      <td>152.983146</td>\n",
       "      <td>17108.500000</td>\n",
       "      <td>64.955056</td>\n",
       "      <td>63.556180</td>\n",
       "      <td>65.915730</td>\n",
       "      <td>65.157303</td>\n",
       "      <td>63.803371</td>\n",
       "      <td>64.480337</td>\n",
       "    </tr>\n",
       "    <tr>\n",
       "      <th>std</th>\n",
       "      <td>21.191110</td>\n",
       "      <td>21.462393</td>\n",
       "      <td>20.315695</td>\n",
       "      <td>48.357599</td>\n",
       "      <td>51.528309</td>\n",
       "      <td>21.097519</td>\n",
       "      <td>20.657544</td>\n",
       "      <td>21.922789</td>\n",
       "      <td>11.829198</td>\n",
       "      <td>12.028243</td>\n",
       "      <td>8.352469</td>\n",
       "    </tr>\n",
       "    <tr>\n",
       "      <th>min</th>\n",
       "      <td>30.000000</td>\n",
       "      <td>30.000000</td>\n",
       "      <td>30.000000</td>\n",
       "      <td>115.000000</td>\n",
       "      <td>17020.000000</td>\n",
       "      <td>30.000000</td>\n",
       "      <td>30.000000</td>\n",
       "      <td>30.000000</td>\n",
       "      <td>38.000000</td>\n",
       "      <td>34.000000</td>\n",
       "      <td>45.500000</td>\n",
       "    </tr>\n",
       "    <tr>\n",
       "      <th>25%</th>\n",
       "      <td>43.000000</td>\n",
       "      <td>43.500000</td>\n",
       "      <td>48.000000</td>\n",
       "      <td>115.000000</td>\n",
       "      <td>17064.250000</td>\n",
       "      <td>46.000000</td>\n",
       "      <td>46.000000</td>\n",
       "      <td>47.000000</td>\n",
       "      <td>57.000000</td>\n",
       "      <td>55.000000</td>\n",
       "      <td>58.625000</td>\n",
       "    </tr>\n",
       "    <tr>\n",
       "      <th>50%</th>\n",
       "      <td>60.000000</td>\n",
       "      <td>64.000000</td>\n",
       "      <td>64.000000</td>\n",
       "      <td>116.000000</td>\n",
       "      <td>17108.500000</td>\n",
       "      <td>65.000000</td>\n",
       "      <td>63.000000</td>\n",
       "      <td>66.500000</td>\n",
       "      <td>66.000000</td>\n",
       "      <td>63.000000</td>\n",
       "      <td>64.000000</td>\n",
       "    </tr>\n",
       "    <tr>\n",
       "      <th>75%</th>\n",
       "      <td>82.000000</td>\n",
       "      <td>81.000000</td>\n",
       "      <td>78.750000</td>\n",
       "      <td>165.000000</td>\n",
       "      <td>17152.750000</td>\n",
       "      <td>83.750000</td>\n",
       "      <td>82.000000</td>\n",
       "      <td>86.000000</td>\n",
       "      <td>72.750000</td>\n",
       "      <td>72.000000</td>\n",
       "      <td>70.000000</td>\n",
       "    </tr>\n",
       "    <tr>\n",
       "      <th>max</th>\n",
       "      <td>100.000000</td>\n",
       "      <td>100.000000</td>\n",
       "      <td>100.000000</td>\n",
       "      <td>241.000000</td>\n",
       "      <td>17197.000000</td>\n",
       "      <td>100.000000</td>\n",
       "      <td>100.000000</td>\n",
       "      <td>100.000000</td>\n",
       "      <td>95.000000</td>\n",
       "      <td>99.000000</td>\n",
       "      <td>87.500000</td>\n",
       "    </tr>\n",
       "  </tbody>\n",
       "</table>\n",
       "</div>"
      ],
      "text/plain": [
       "              DAA          OS         COA  College Code       Roll no  \\\n",
       "count  178.000000  178.000000  178.000000    178.000000    178.000000   \n",
       "mean    63.101124   63.162921   64.134831    152.983146  17108.500000   \n",
       "std     21.191110   21.462393   20.315695     48.357599     51.528309   \n",
       "min     30.000000   30.000000   30.000000    115.000000  17020.000000   \n",
       "25%     43.000000   43.500000   48.000000    115.000000  17064.250000   \n",
       "50%     60.000000   64.000000   64.000000    116.000000  17108.500000   \n",
       "75%     82.000000   81.000000   78.750000    165.000000  17152.750000   \n",
       "max    100.000000  100.000000  100.000000    241.000000  17197.000000   \n",
       "\n",
       "             Math     Physics         PPS  1st SEM Percentage  \\\n",
       "count  178.000000  178.000000  178.000000          178.000000   \n",
       "mean    64.955056   63.556180   65.915730           65.157303   \n",
       "std     21.097519   20.657544   21.922789           11.829198   \n",
       "min     30.000000   30.000000   30.000000           38.000000   \n",
       "25%     46.000000   46.000000   47.000000           57.000000   \n",
       "50%     65.000000   63.000000   66.500000           66.000000   \n",
       "75%     83.750000   82.000000   86.000000           72.750000   \n",
       "max    100.000000  100.000000  100.000000           95.000000   \n",
       "\n",
       "       2nd SEM Percentage     Average  \n",
       "count          178.000000  178.000000  \n",
       "mean            63.803371   64.480337  \n",
       "std             12.028243    8.352469  \n",
       "min             34.000000   45.500000  \n",
       "25%             55.000000   58.625000  \n",
       "50%             63.000000   64.000000  \n",
       "75%             72.000000   70.000000  \n",
       "max             99.000000   87.500000  "
      ]
     },
     "execution_count": 7,
     "metadata": {},
     "output_type": "execute_result"
    }
   ],
   "source": [
    "df.describe()"
   ]
  },
  {
   "cell_type": "code",
   "execution_count": 8,
   "id": "0e164091",
   "metadata": {},
   "outputs": [],
   "source": [
    "\n",
    "categorical_cols = df.select_dtypes(include='object').columns"
   ]
  },
  {
   "cell_type": "code",
   "execution_count": 9,
   "id": "97ea83a7",
   "metadata": {},
   "outputs": [
    {
     "data": {
      "text/plain": [
       "Index(['Gender'], dtype='object')"
      ]
     },
     "execution_count": 9,
     "metadata": {},
     "output_type": "execute_result"
    }
   ],
   "source": [
    "\n",
    "categorical_cols"
   ]
  },
  {
   "cell_type": "code",
   "execution_count": 10,
   "id": "f17c2b44",
   "metadata": {},
   "outputs": [
    {
     "name": "stdout",
     "output_type": "stream",
     "text": [
      "['Female' 'Male']\n"
     ]
    }
   ],
   "source": [
    "for i in categorical_cols:\n",
    "    print(df[i].unique())"
   ]
  },
  {
   "cell_type": "code",
   "execution_count": 11,
   "id": "c2a3c806",
   "metadata": {},
   "outputs": [
    {
     "data": {
      "text/plain": [
       "DAA                   False\n",
       "OS                    False\n",
       "COA                   False\n",
       "College Code          False\n",
       "Gender                False\n",
       "Roll no               False\n",
       "Math                  False\n",
       "Physics               False\n",
       "PPS                   False\n",
       "1st SEM Percentage    False\n",
       "2nd SEM Percentage    False\n",
       "Average               False\n",
       "dtype: bool"
      ]
     },
     "execution_count": 11,
     "metadata": {},
     "output_type": "execute_result"
    }
   ],
   "source": [
    "df.isnull().any()  "
   ]
  },
  {
   "cell_type": "code",
   "execution_count": 12,
   "id": "8c841305",
   "metadata": {},
   "outputs": [
    {
     "data": {
      "text/plain": [
       "DAA                   0\n",
       "OS                    0\n",
       "COA                   0\n",
       "College Code          0\n",
       "Gender                0\n",
       "Roll no               0\n",
       "Math                  0\n",
       "Physics               0\n",
       "PPS                   0\n",
       "1st SEM Percentage    0\n",
       "2nd SEM Percentage    0\n",
       "Average               0\n",
       "dtype: int64"
      ]
     },
     "execution_count": 12,
     "metadata": {},
     "output_type": "execute_result"
    }
   ],
   "source": [
    "\n",
    "df.isnull().sum()"
   ]
  },
  {
   "cell_type": "code",
   "execution_count": 13,
   "id": "aa1fd496",
   "metadata": {},
   "outputs": [],
   "source": [
    "import seaborn as sns"
   ]
  },
  {
   "cell_type": "code",
   "execution_count": 14,
   "id": "7c3e6895",
   "metadata": {},
   "outputs": [
    {
     "data": {
      "image/png": "[encoded data removed]",
      "text/plain": [
       "<Figure size 640x480 with 1 Axes>"
      ]
     },
     "metadata": {},
     "output_type": "display_data"
    }
   ],
   "source": [
    "sns.countplot(data=df, x='Gender')\n",
    "plt.show()"
   ]
  },
  {
   "cell_type": "code",
   "execution_count": 15,
   "id": "0dd43802",
   "metadata": {},
   "outputs": [
    {
     "data": {
      "image/png": "[encoded data removed]",
      "text/plain": [
       "<Figure size 2000x1000 with 1 Axes>"
      ]
     },
     "metadata": {},
     "output_type": "display_data"
    }
   ],
   "source": [
    "plt.figure(figsize=(20,10))\n",
    "plt.subplots_adjust(left=0.125, bottom=0.1, right=0.9, top=0.9,\n",
    "                      wspace=0.5, hspace=0.2)\n",
    "plt.subplot(141)\n",
    "plt.title('Gender',fontsize = 20)\n",
    "df['Gender'].value_counts().plot.pie(autopct=\"%1.1f%%\")\n",
    "plt.show()"
   ]
  },
  {
   "cell_type": "code",
   "execution_count": 16,
   "id": "c2f6a96f",
   "metadata": {},
   "outputs": [
    {
     "data": {
      "text/plain": [
       "<Axes: xlabel='1st SEM Percentage', ylabel='2nd SEM Percentage'>"
      ]
     },
     "execution_count": 16,
     "metadata": {},
     "output_type": "execute_result"
    },
    {
     "data": {
      "image/png": "[encoded data removed]",
      "text/plain": [
       "<Figure size 640x480 with 1 Axes>"
      ]
     },
     "metadata": {},
     "output_type": "display_data"
    }
   ],
   "source": [
    "\n",
    "\n",
    "sns.scatterplot(x=df['1st SEM Percentage'],y=df['2nd SEM Percentage'],hue=df['Gender'])"
   ]
  },
  {
   "cell_type": "code",
   "execution_count": 17,
   "id": "c8a3045a",
   "metadata": {},
   "outputs": [
    {
     "data": {
      "image/png": "[encoded data removed]",
      "text/plain": [
       "<Figure size 1500x500 with 2 Axes>"
      ]
     },
     "metadata": {},
     "output_type": "display_data"
    }
   ],
   "source": [
    "plt.figure(figsize=(15,5))\n",
    "plt.subplots_adjust(left=0.125, bottom=0.1, right=0.9, top=0.9,\n",
    "                      wspace=0.5, hspace=0.2)\n",
    "plt.subplot(131)\n",
    "plt.title('1st SEM Percentage')\n",
    "sns.barplot(x=\"Gender\", y=\"1st SEM Percentage\", data=df)\n",
    "plt.subplot(132)\n",
    "plt.title('2nd SEM Percentage')\n",
    "sns.barplot(x=\"Gender\", y=\"2nd SEM Percentage\", data=df)\n",
    "plt.show()"
   ]
  },
  {
   "cell_type": "code",
   "execution_count": 18,
   "id": "209f5ebd",
   "metadata": {},
   "outputs": [
    {
     "data": {
      "image/png": "[encoded data removed]",
      "text/plain": [
       "<Figure size 1500x500 with 3 Axes>"
      ]
     },
     "metadata": {},
     "output_type": "display_data"
    }
   ],
   "source": [
    "plt.figure(figsize=(15,5))\n",
    "plt.subplots_adjust(left=0.125, bottom=0.1, right=0.9, top=0.9,\n",
    "                      wspace=0.5, hspace=0.2)\n",
    "plt.subplot(131)\n",
    "plt.title('Math Score')\n",
    "sns.barplot(x=\"Gender\", y=\"Math\", data=df)\n",
    "plt.subplot(132)\n",
    "plt.title('Physics Score')\n",
    "sns.barplot(x=\"Gender\", y=\"Physics\", data=df)\n",
    "plt.subplot(133)\n",
    "plt.title('PPS Score')\n",
    "sns.barplot(x=\"Gender\", y=\"PPS\", data=df)\n",
    "plt.show()"
   ]
  },
  {
   "cell_type": "code",
   "execution_count": 19,
   "id": "019e84f2",
   "metadata": {},
   "outputs": [
    {
     "data": {
      "image/png": "[encoded data removed]",
      "text/plain": [
       "<Figure size 1500x500 with 3 Axes>"
      ]
     },
     "metadata": {},
     "output_type": "display_data"
    }
   ],
   "source": [
    "plt.figure(figsize=(15,5))\n",
    "plt.subplots_adjust(left=0.125, bottom=0.1, right=0.9, top=0.9,\n",
    "                      wspace=0.5, hspace=0.2)\n",
    "plt.subplot(131)\n",
    "plt.title('DAA Score')\n",
    "sns.barplot(x=\"Gender\", y=\"DAA\", data=df)\n",
    "plt.subplot(132)\n",
    "plt.title('OS Score')\n",
    "sns.barplot(x=\"Gender\", y=\"OS\", data=df)\n",
    "plt.subplot(133)\n",
    "plt.title('COA Score')\n",
    "sns.barplot(x=\"Gender\", y=\"COA\", data=df)\n",
    "plt.show()"
   ]
  },
  {
   "cell_type": "code",
   "execution_count": 20,
   "id": "8c7efa28",
   "metadata": {},
   "outputs": [],
   "source": [
    "\n",
    "\n",
    "def determine_grade(scores):\n",
    "    if scores >= 85 and scores <= 100:\n",
    "        return 'Grade A'\n",
    "    elif scores >= 70 and scores < 85:\n",
    "        return 'Grade B'\n",
    "    elif scores >= 55 and scores < 70:\n",
    "        return 'Grade C'\n",
    "    elif scores >= 35 and scores < 55:\n",
    "        return 'Grade D'\n",
    "    elif scores >= 0 and scores < 35:\n",
    "        return 'Grade E'\n",
    "    \n",
    "df['Grades']=df['Average'].apply(determine_grade)"
   ]
  },
  {
   "cell_type": "code",
   "execution_count": 21,
   "id": "4c5e22f1",
   "metadata": {},
   "outputs": [
    {
     "name": "stdout",
     "output_type": "stream",
     "text": [
      "<class 'pandas.core.frame.DataFrame'>\n",
      "RangeIndex: 178 entries, 0 to 177\n",
      "Data columns (total 13 columns):\n",
      " #   Column              Non-Null Count  Dtype  \n",
      "---  ------              --------------  -----  \n",
      " 0   DAA                 178 non-null    int64  \n",
      " 1   OS                  178 non-null    int64  \n",
      " 2   COA                 178 non-null    int64  \n",
      " 3   College Code        178 non-null    int64  \n",
      " 4   Gender              178 non-null    object \n",
      " 5   Roll no             178 non-null    int64  \n",
      " 6   Math                178 non-null    int64  \n",
      " 7   Physics             178 non-null    int64  \n",
      " 8   PPS                 178 non-null    int64  \n",
      " 9   1st SEM Percentage  178 non-null    int64  \n",
      " 10  2nd SEM Percentage  178 non-null    int64  \n",
      " 11  Average             178 non-null    float64\n",
      " 12  Grades              178 non-null    object \n",
      "dtypes: float64(1), int64(10), object(2)\n",
      "memory usage: 18.2+ KB\n"
     ]
    }
   ],
   "source": [
    "df.info()"
   ]
  },
  {
   "cell_type": "code",
   "execution_count": 22,
   "id": "898d72fb",
   "metadata": {},
   "outputs": [
    {
     "data": {
      "text/html": [
       "<div>\n",
       "<style scoped>\n",
       "    .dataframe tbody tr th:only-of-type {\n",
       "        vertical-align: middle;\n",
       "    }\n",
       "\n",
       "    .dataframe tbody tr th {\n",
       "        vertical-align: top;\n",
       "    }\n",
       "\n",
       "    .dataframe thead th {\n",
       "        text-align: right;\n",
       "    }\n",
       "</style>\n",
       "<table border=\"1\" class=\"dataframe\">\n",
       "  <thead>\n",
       "    <tr style=\"text-align: right;\">\n",
       "      <th></th>\n",
       "      <th>DAA</th>\n",
       "      <th>OS</th>\n",
       "      <th>COA</th>\n",
       "      <th>College Code</th>\n",
       "      <th>Gender</th>\n",
       "      <th>Roll no</th>\n",
       "      <th>Math</th>\n",
       "      <th>Physics</th>\n",
       "      <th>PPS</th>\n",
       "      <th>1st SEM Percentage</th>\n",
       "      <th>2nd SEM Percentage</th>\n",
       "      <th>Average</th>\n",
       "      <th>Grades</th>\n",
       "    </tr>\n",
       "  </thead>\n",
       "  <tbody>\n",
       "    <tr>\n",
       "      <th>0</th>\n",
       "      <td>32</td>\n",
       "      <td>69</td>\n",
       "      <td>34</td>\n",
       "      <td>115</td>\n",
       "      <td>Female</td>\n",
       "      <td>17020</td>\n",
       "      <td>61</td>\n",
       "      <td>37</td>\n",
       "      <td>83</td>\n",
       "      <td>61</td>\n",
       "      <td>45</td>\n",
       "      <td>53.0</td>\n",
       "      <td>Grade D</td>\n",
       "    </tr>\n",
       "    <tr>\n",
       "      <th>1</th>\n",
       "      <td>94</td>\n",
       "      <td>43</td>\n",
       "      <td>44</td>\n",
       "      <td>115</td>\n",
       "      <td>Male</td>\n",
       "      <td>17021</td>\n",
       "      <td>62</td>\n",
       "      <td>87</td>\n",
       "      <td>55</td>\n",
       "      <td>68</td>\n",
       "      <td>61</td>\n",
       "      <td>64.5</td>\n",
       "      <td>Grade C</td>\n",
       "    </tr>\n",
       "    <tr>\n",
       "      <th>2</th>\n",
       "      <td>87</td>\n",
       "      <td>78</td>\n",
       "      <td>72</td>\n",
       "      <td>115</td>\n",
       "      <td>Female</td>\n",
       "      <td>17022</td>\n",
       "      <td>51</td>\n",
       "      <td>54</td>\n",
       "      <td>32</td>\n",
       "      <td>46</td>\n",
       "      <td>79</td>\n",
       "      <td>62.5</td>\n",
       "      <td>Grade C</td>\n",
       "    </tr>\n",
       "    <tr>\n",
       "      <th>3</th>\n",
       "      <td>68</td>\n",
       "      <td>68</td>\n",
       "      <td>30</td>\n",
       "      <td>115</td>\n",
       "      <td>Male</td>\n",
       "      <td>17023</td>\n",
       "      <td>76</td>\n",
       "      <td>91</td>\n",
       "      <td>44</td>\n",
       "      <td>71</td>\n",
       "      <td>56</td>\n",
       "      <td>63.5</td>\n",
       "      <td>Grade C</td>\n",
       "    </tr>\n",
       "    <tr>\n",
       "      <th>4</th>\n",
       "      <td>46</td>\n",
       "      <td>68</td>\n",
       "      <td>33</td>\n",
       "      <td>115</td>\n",
       "      <td>Male</td>\n",
       "      <td>17024</td>\n",
       "      <td>90</td>\n",
       "      <td>95</td>\n",
       "      <td>91</td>\n",
       "      <td>92</td>\n",
       "      <td>49</td>\n",
       "      <td>70.5</td>\n",
       "      <td>Grade B</td>\n",
       "    </tr>\n",
       "    <tr>\n",
       "      <th>...</th>\n",
       "      <td>...</td>\n",
       "      <td>...</td>\n",
       "      <td>...</td>\n",
       "      <td>...</td>\n",
       "      <td>...</td>\n",
       "      <td>...</td>\n",
       "      <td>...</td>\n",
       "      <td>...</td>\n",
       "      <td>...</td>\n",
       "      <td>...</td>\n",
       "      <td>...</td>\n",
       "      <td>...</td>\n",
       "      <td>...</td>\n",
       "    </tr>\n",
       "    <tr>\n",
       "      <th>173</th>\n",
       "      <td>60</td>\n",
       "      <td>92</td>\n",
       "      <td>70</td>\n",
       "      <td>241</td>\n",
       "      <td>Female</td>\n",
       "      <td>17193</td>\n",
       "      <td>35</td>\n",
       "      <td>47</td>\n",
       "      <td>31</td>\n",
       "      <td>38</td>\n",
       "      <td>74</td>\n",
       "      <td>56.0</td>\n",
       "      <td>Grade C</td>\n",
       "    </tr>\n",
       "    <tr>\n",
       "      <th>174</th>\n",
       "      <td>56</td>\n",
       "      <td>97</td>\n",
       "      <td>43</td>\n",
       "      <td>241</td>\n",
       "      <td>Male</td>\n",
       "      <td>17194</td>\n",
       "      <td>37</td>\n",
       "      <td>94</td>\n",
       "      <td>54</td>\n",
       "      <td>62</td>\n",
       "      <td>66</td>\n",
       "      <td>64.0</td>\n",
       "      <td>Grade C</td>\n",
       "    </tr>\n",
       "    <tr>\n",
       "      <th>175</th>\n",
       "      <td>97</td>\n",
       "      <td>37</td>\n",
       "      <td>65</td>\n",
       "      <td>241</td>\n",
       "      <td>Male</td>\n",
       "      <td>17195</td>\n",
       "      <td>45</td>\n",
       "      <td>57</td>\n",
       "      <td>67</td>\n",
       "      <td>57</td>\n",
       "      <td>67</td>\n",
       "      <td>62.0</td>\n",
       "      <td>Grade C</td>\n",
       "    </tr>\n",
       "    <tr>\n",
       "      <th>176</th>\n",
       "      <td>88</td>\n",
       "      <td>88</td>\n",
       "      <td>41</td>\n",
       "      <td>241</td>\n",
       "      <td>Male</td>\n",
       "      <td>17196</td>\n",
       "      <td>51</td>\n",
       "      <td>77</td>\n",
       "      <td>69</td>\n",
       "      <td>66</td>\n",
       "      <td>73</td>\n",
       "      <td>69.5</td>\n",
       "      <td>Grade C</td>\n",
       "    </tr>\n",
       "    <tr>\n",
       "      <th>177</th>\n",
       "      <td>91</td>\n",
       "      <td>54</td>\n",
       "      <td>95</td>\n",
       "      <td>241</td>\n",
       "      <td>Male</td>\n",
       "      <td>17197</td>\n",
       "      <td>79</td>\n",
       "      <td>46</td>\n",
       "      <td>52</td>\n",
       "      <td>59</td>\n",
       "      <td>80</td>\n",
       "      <td>69.5</td>\n",
       "      <td>Grade C</td>\n",
       "    </tr>\n",
       "  </tbody>\n",
       "</table>\n",
       "<p>178 rows × 13 columns</p>\n",
       "</div>"
      ],
      "text/plain": [
       "     DAA  OS  COA  College Code  Gender  Roll no  Math  Physics  PPS  \\\n",
       "0     32  69   34           115  Female    17020    61       37   83   \n",
       "1     94  43   44           115    Male    17021    62       87   55   \n",
       "2     87  78   72           115  Female    17022    51       54   32   \n",
       "3     68  68   30           115    Male    17023    76       91   44   \n",
       "4     46  68   33           115    Male    17024    90       95   91   \n",
       "..   ...  ..  ...           ...     ...      ...   ...      ...  ...   \n",
       "173   60  92   70           241  Female    17193    35       47   31   \n",
       "174   56  97   43           241    Male    17194    37       94   54   \n",
       "175   97  37   65           241    Male    17195    45       57   67   \n",
       "176   88  88   41           241    Male    17196    51       77   69   \n",
       "177   91  54   95           241    Male    17197    79       46   52   \n",
       "\n",
       "     1st SEM Percentage  2nd SEM Percentage  Average   Grades  \n",
       "0                    61                  45     53.0  Grade D  \n",
       "1                    68                  61     64.5  Grade C  \n",
       "2                    46                  79     62.5  Grade C  \n",
       "3                    71                  56     63.5  Grade C  \n",
       "4                    92                  49     70.5  Grade B  \n",
       "..                  ...                 ...      ...      ...  \n",
       "173                  38                  74     56.0  Grade C  \n",
       "174                  62                  66     64.0  Grade C  \n",
       "175                  57                  67     62.0  Grade C  \n",
       "176                  66                  73     69.5  Grade C  \n",
       "177                  59                  80     69.5  Grade C  \n",
       "\n",
       "[178 rows x 13 columns]"
      ]
     },
     "execution_count": 22,
     "metadata": {},
     "output_type": "execute_result"
    }
   ],
   "source": [
    "df"
   ]
  },
  {
   "cell_type": "code",
   "execution_count": 23,
   "id": "94ca0852",
   "metadata": {},
   "outputs": [
    {
     "data": {
      "image/png": "[encoded data removed]",
      "text/plain": [
       "<Figure size 640x480 with 1 Axes>"
      ]
     },
     "metadata": {},
     "output_type": "display_data"
    }
   ],
   "source": [
    "df['Grades'].value_counts().plot.pie(autopct=\"%1.1f%%\")\n",
    "plt.show()"
   ]
  },
  {
   "cell_type": "code",
   "execution_count": 24,
   "id": "37cf5711",
   "metadata": {},
   "outputs": [
    {
     "data": {
      "image/png": "[encoded data removed]",
      "text/plain": [
       "<Figure size 3000x1000 with 1 Axes>"
      ]
     },
     "metadata": {},
     "output_type": "display_data"
    }
   ],
   "source": [
    "plt.figure(figsize=(30,10))\n",
    "plt.subplots_adjust(left=0.125, bottom=0.1, right=0.9, top=0.9,\n",
    "                      wspace=0.5, hspace=0.2)\n",
    "plt.subplot(251)\n",
    "plt.title('Grades and Gender')\n",
    "sns.countplot(hue=\"Gender\", x=\"Grades\", data=df)\n",
    "plt.show()"
   ]
  },
  {
   "cell_type": "code",
   "execution_count": 25,
   "id": "8a41b475",
   "metadata": {},
   "outputs": [
    {
     "data": {
      "text/plain": [
       "Grades\n",
       "Grade C    109\n",
       "Grade B     44\n",
       "Grade D     22\n",
       "Grade A      3\n",
       "Name: count, dtype: int64"
      ]
     },
     "execution_count": 25,
     "metadata": {},
     "output_type": "execute_result"
    }
   ],
   "source": [
    "df[\"Grades\"].value_counts()"
   ]
  },
  {
   "cell_type": "code",
   "execution_count": 26,
   "id": "c2f77714",
   "metadata": {},
   "outputs": [],
   "source": [
    "df['Gender']=df['Gender'].map({'Male':0,'Female':1})"
   ]
  },
  {
   "cell_type": "code",
   "execution_count": 27,
   "id": "28ff243d",
   "metadata": {},
   "outputs": [
    {
     "data": {
      "text/html": [
       "<div>\n",
       "<style scoped>\n",
       "    .dataframe tbody tr th:only-of-type {\n",
       "        vertical-align: middle;\n",
       "    }\n",
       "\n",
       "    .dataframe tbody tr th {\n",
       "        vertical-align: top;\n",
       "    }\n",
       "\n",
       "    .dataframe thead th {\n",
       "        text-align: right;\n",
       "    }\n",
       "</style>\n",
       "<table border=\"1\" class=\"dataframe\">\n",
       "  <thead>\n",
       "    <tr style=\"text-align: right;\">\n",
       "      <th></th>\n",
       "      <th>DAA</th>\n",
       "      <th>OS</th>\n",
       "      <th>COA</th>\n",
       "      <th>College Code</th>\n",
       "      <th>Gender</th>\n",
       "      <th>Roll no</th>\n",
       "      <th>Math</th>\n",
       "      <th>Physics</th>\n",
       "      <th>PPS</th>\n",
       "      <th>1st SEM Percentage</th>\n",
       "      <th>2nd SEM Percentage</th>\n",
       "      <th>Average</th>\n",
       "      <th>Grades</th>\n",
       "    </tr>\n",
       "  </thead>\n",
       "  <tbody>\n",
       "    <tr>\n",
       "      <th>0</th>\n",
       "      <td>32</td>\n",
       "      <td>69</td>\n",
       "      <td>34</td>\n",
       "      <td>115</td>\n",
       "      <td>1</td>\n",
       "      <td>17020</td>\n",
       "      <td>61</td>\n",
       "      <td>37</td>\n",
       "      <td>83</td>\n",
       "      <td>61</td>\n",
       "      <td>45</td>\n",
       "      <td>53.0</td>\n",
       "      <td>Grade D</td>\n",
       "    </tr>\n",
       "    <tr>\n",
       "      <th>1</th>\n",
       "      <td>94</td>\n",
       "      <td>43</td>\n",
       "      <td>44</td>\n",
       "      <td>115</td>\n",
       "      <td>0</td>\n",
       "      <td>17021</td>\n",
       "      <td>62</td>\n",
       "      <td>87</td>\n",
       "      <td>55</td>\n",
       "      <td>68</td>\n",
       "      <td>61</td>\n",
       "      <td>64.5</td>\n",
       "      <td>Grade C</td>\n",
       "    </tr>\n",
       "    <tr>\n",
       "      <th>2</th>\n",
       "      <td>87</td>\n",
       "      <td>78</td>\n",
       "      <td>72</td>\n",
       "      <td>115</td>\n",
       "      <td>1</td>\n",
       "      <td>17022</td>\n",
       "      <td>51</td>\n",
       "      <td>54</td>\n",
       "      <td>32</td>\n",
       "      <td>46</td>\n",
       "      <td>79</td>\n",
       "      <td>62.5</td>\n",
       "      <td>Grade C</td>\n",
       "    </tr>\n",
       "    <tr>\n",
       "      <th>3</th>\n",
       "      <td>68</td>\n",
       "      <td>68</td>\n",
       "      <td>30</td>\n",
       "      <td>115</td>\n",
       "      <td>0</td>\n",
       "      <td>17023</td>\n",
       "      <td>76</td>\n",
       "      <td>91</td>\n",
       "      <td>44</td>\n",
       "      <td>71</td>\n",
       "      <td>56</td>\n",
       "      <td>63.5</td>\n",
       "      <td>Grade C</td>\n",
       "    </tr>\n",
       "    <tr>\n",
       "      <th>4</th>\n",
       "      <td>46</td>\n",
       "      <td>68</td>\n",
       "      <td>33</td>\n",
       "      <td>115</td>\n",
       "      <td>0</td>\n",
       "      <td>17024</td>\n",
       "      <td>90</td>\n",
       "      <td>95</td>\n",
       "      <td>91</td>\n",
       "      <td>92</td>\n",
       "      <td>49</td>\n",
       "      <td>70.5</td>\n",
       "      <td>Grade B</td>\n",
       "    </tr>\n",
       "  </tbody>\n",
       "</table>\n",
       "</div>"
      ],
      "text/plain": [
       "   DAA  OS  COA  College Code  Gender  Roll no  Math  Physics  PPS  \\\n",
       "0   32  69   34           115       1    17020    61       37   83   \n",
       "1   94  43   44           115       0    17021    62       87   55   \n",
       "2   87  78   72           115       1    17022    51       54   32   \n",
       "3   68  68   30           115       0    17023    76       91   44   \n",
       "4   46  68   33           115       0    17024    90       95   91   \n",
       "\n",
       "   1st SEM Percentage  2nd SEM Percentage  Average   Grades  \n",
       "0                  61                  45     53.0  Grade D  \n",
       "1                  68                  61     64.5  Grade C  \n",
       "2                  46                  79     62.5  Grade C  \n",
       "3                  71                  56     63.5  Grade C  \n",
       "4                  92                  49     70.5  Grade B  "
      ]
     },
     "execution_count": 27,
     "metadata": {},
     "output_type": "execute_result"
    }
   ],
   "source": [
    "df.head()"
   ]
  },
  {
   "cell_type": "code",
   "execution_count": 28,
   "id": "9ef2afd6",
   "metadata": {},
   "outputs": [],
   "source": [
    "df['Grades']=df['Grades'].map({'Grade A':0,'Grade B':1,'Grade C':2,'Grade D':3})\n"
   ]
  },
  {
   "cell_type": "code",
   "execution_count": 29,
   "id": "79cdbc64",
   "metadata": {},
   "outputs": [
    {
     "data": {
      "text/html": [
       "<div>\n",
       "<style scoped>\n",
       "    .dataframe tbody tr th:only-of-type {\n",
       "        vertical-align: middle;\n",
       "    }\n",
       "\n",
       "    .dataframe tbody tr th {\n",
       "        vertical-align: top;\n",
       "    }\n",
       "\n",
       "    .dataframe thead th {\n",
       "        text-align: right;\n",
       "    }\n",
       "</style>\n",
       "<table border=\"1\" class=\"dataframe\">\n",
       "  <thead>\n",
       "    <tr style=\"text-align: right;\">\n",
       "      <th></th>\n",
       "      <th>DAA</th>\n",
       "      <th>OS</th>\n",
       "      <th>COA</th>\n",
       "      <th>College Code</th>\n",
       "      <th>Gender</th>\n",
       "      <th>Roll no</th>\n",
       "      <th>Math</th>\n",
       "      <th>Physics</th>\n",
       "      <th>PPS</th>\n",
       "      <th>1st SEM Percentage</th>\n",
       "      <th>2nd SEM Percentage</th>\n",
       "      <th>Average</th>\n",
       "      <th>Grades</th>\n",
       "    </tr>\n",
       "  </thead>\n",
       "  <tbody>\n",
       "    <tr>\n",
       "      <th>0</th>\n",
       "      <td>32</td>\n",
       "      <td>69</td>\n",
       "      <td>34</td>\n",
       "      <td>115</td>\n",
       "      <td>1</td>\n",
       "      <td>17020</td>\n",
       "      <td>61</td>\n",
       "      <td>37</td>\n",
       "      <td>83</td>\n",
       "      <td>61</td>\n",
       "      <td>45</td>\n",
       "      <td>53.0</td>\n",
       "      <td>3</td>\n",
       "    </tr>\n",
       "    <tr>\n",
       "      <th>1</th>\n",
       "      <td>94</td>\n",
       "      <td>43</td>\n",
       "      <td>44</td>\n",
       "      <td>115</td>\n",
       "      <td>0</td>\n",
       "      <td>17021</td>\n",
       "      <td>62</td>\n",
       "      <td>87</td>\n",
       "      <td>55</td>\n",
       "      <td>68</td>\n",
       "      <td>61</td>\n",
       "      <td>64.5</td>\n",
       "      <td>2</td>\n",
       "    </tr>\n",
       "    <tr>\n",
       "      <th>2</th>\n",
       "      <td>87</td>\n",
       "      <td>78</td>\n",
       "      <td>72</td>\n",
       "      <td>115</td>\n",
       "      <td>1</td>\n",
       "      <td>17022</td>\n",
       "      <td>51</td>\n",
       "      <td>54</td>\n",
       "      <td>32</td>\n",
       "      <td>46</td>\n",
       "      <td>79</td>\n",
       "      <td>62.5</td>\n",
       "      <td>2</td>\n",
       "    </tr>\n",
       "    <tr>\n",
       "      <th>3</th>\n",
       "      <td>68</td>\n",
       "      <td>68</td>\n",
       "      <td>30</td>\n",
       "      <td>115</td>\n",
       "      <td>0</td>\n",
       "      <td>17023</td>\n",
       "      <td>76</td>\n",
       "      <td>91</td>\n",
       "      <td>44</td>\n",
       "      <td>71</td>\n",
       "      <td>56</td>\n",
       "      <td>63.5</td>\n",
       "      <td>2</td>\n",
       "    </tr>\n",
       "    <tr>\n",
       "      <th>4</th>\n",
       "      <td>46</td>\n",
       "      <td>68</td>\n",
       "      <td>33</td>\n",
       "      <td>115</td>\n",
       "      <td>0</td>\n",
       "      <td>17024</td>\n",
       "      <td>90</td>\n",
       "      <td>95</td>\n",
       "      <td>91</td>\n",
       "      <td>92</td>\n",
       "      <td>49</td>\n",
       "      <td>70.5</td>\n",
       "      <td>1</td>\n",
       "    </tr>\n",
       "  </tbody>\n",
       "</table>\n",
       "</div>"
      ],
      "text/plain": [
       "   DAA  OS  COA  College Code  Gender  Roll no  Math  Physics  PPS  \\\n",
       "0   32  69   34           115       1    17020    61       37   83   \n",
       "1   94  43   44           115       0    17021    62       87   55   \n",
       "2   87  78   72           115       1    17022    51       54   32   \n",
       "3   68  68   30           115       0    17023    76       91   44   \n",
       "4   46  68   33           115       0    17024    90       95   91   \n",
       "\n",
       "   1st SEM Percentage  2nd SEM Percentage  Average  Grades  \n",
       "0                  61                  45     53.0       3  \n",
       "1                  68                  61     64.5       2  \n",
       "2                  46                  79     62.5       2  \n",
       "3                  71                  56     63.5       2  \n",
       "4                  92                  49     70.5       1  "
      ]
     },
     "execution_count": 29,
     "metadata": {},
     "output_type": "execute_result"
    }
   ],
   "source": [
    "df.head()"
   ]
  },
  {
   "cell_type": "code",
   "execution_count": 30,
   "id": "2e0e7532",
   "metadata": {},
   "outputs": [],
   "source": [
    "X = df.iloc[:, :-1]\n",
    "y = df.iloc[:, -1]"
   ]
  },
  {
   "cell_type": "code",
   "execution_count": 31,
   "id": "33da2e5f",
   "metadata": {},
   "outputs": [
    {
     "data": {
      "text/plain": [
       "(178, 12)"
      ]
     },
     "execution_count": 31,
     "metadata": {},
     "output_type": "execute_result"
    }
   ],
   "source": [
    "X.shape"
   ]
  },
  {
   "cell_type": "code",
   "execution_count": 32,
   "id": "ec3423a1",
   "metadata": {},
   "outputs": [
    {
     "data": {
      "text/plain": [
       "(178,)"
      ]
     },
     "execution_count": 32,
     "metadata": {},
     "output_type": "execute_result"
    }
   ],
   "source": [
    "y.shape"
   ]
  },
  {
   "cell_type": "code",
   "execution_count": 33,
   "id": "ee0ac8f9",
   "metadata": {},
   "outputs": [
    {
     "data": {
      "text/html": [
       "<div>\n",
       "<style scoped>\n",
       "    .dataframe tbody tr th:only-of-type {\n",
       "        vertical-align: middle;\n",
       "    }\n",
       "\n",
       "    .dataframe tbody tr th {\n",
       "        vertical-align: top;\n",
       "    }\n",
       "\n",
       "    .dataframe thead th {\n",
       "        text-align: right;\n",
       "    }\n",
       "</style>\n",
       "<table border=\"1\" class=\"dataframe\">\n",
       "  <thead>\n",
       "    <tr style=\"text-align: right;\">\n",
       "      <th></th>\n",
       "      <th>DAA</th>\n",
       "      <th>OS</th>\n",
       "      <th>COA</th>\n",
       "      <th>College Code</th>\n",
       "      <th>Gender</th>\n",
       "      <th>Roll no</th>\n",
       "      <th>Math</th>\n",
       "      <th>Physics</th>\n",
       "      <th>PPS</th>\n",
       "      <th>1st SEM Percentage</th>\n",
       "      <th>2nd SEM Percentage</th>\n",
       "      <th>Average</th>\n",
       "    </tr>\n",
       "  </thead>\n",
       "  <tbody>\n",
       "    <tr>\n",
       "      <th>0</th>\n",
       "      <td>32</td>\n",
       "      <td>69</td>\n",
       "      <td>34</td>\n",
       "      <td>115</td>\n",
       "      <td>1</td>\n",
       "      <td>17020</td>\n",
       "      <td>61</td>\n",
       "      <td>37</td>\n",
       "      <td>83</td>\n",
       "      <td>61</td>\n",
       "      <td>45</td>\n",
       "      <td>53.0</td>\n",
       "    </tr>\n",
       "    <tr>\n",
       "      <th>1</th>\n",
       "      <td>94</td>\n",
       "      <td>43</td>\n",
       "      <td>44</td>\n",
       "      <td>115</td>\n",
       "      <td>0</td>\n",
       "      <td>17021</td>\n",
       "      <td>62</td>\n",
       "      <td>87</td>\n",
       "      <td>55</td>\n",
       "      <td>68</td>\n",
       "      <td>61</td>\n",
       "      <td>64.5</td>\n",
       "    </tr>\n",
       "    <tr>\n",
       "      <th>2</th>\n",
       "      <td>87</td>\n",
       "      <td>78</td>\n",
       "      <td>72</td>\n",
       "      <td>115</td>\n",
       "      <td>1</td>\n",
       "      <td>17022</td>\n",
       "      <td>51</td>\n",
       "      <td>54</td>\n",
       "      <td>32</td>\n",
       "      <td>46</td>\n",
       "      <td>79</td>\n",
       "      <td>62.5</td>\n",
       "    </tr>\n",
       "    <tr>\n",
       "      <th>3</th>\n",
       "      <td>68</td>\n",
       "      <td>68</td>\n",
       "      <td>30</td>\n",
       "      <td>115</td>\n",
       "      <td>0</td>\n",
       "      <td>17023</td>\n",
       "      <td>76</td>\n",
       "      <td>91</td>\n",
       "      <td>44</td>\n",
       "      <td>71</td>\n",
       "      <td>56</td>\n",
       "      <td>63.5</td>\n",
       "    </tr>\n",
       "    <tr>\n",
       "      <th>4</th>\n",
       "      <td>46</td>\n",
       "      <td>68</td>\n",
       "      <td>33</td>\n",
       "      <td>115</td>\n",
       "      <td>0</td>\n",
       "      <td>17024</td>\n",
       "      <td>90</td>\n",
       "      <td>95</td>\n",
       "      <td>91</td>\n",
       "      <td>92</td>\n",
       "      <td>49</td>\n",
       "      <td>70.5</td>\n",
       "    </tr>\n",
       "    <tr>\n",
       "      <th>...</th>\n",
       "      <td>...</td>\n",
       "      <td>...</td>\n",
       "      <td>...</td>\n",
       "      <td>...</td>\n",
       "      <td>...</td>\n",
       "      <td>...</td>\n",
       "      <td>...</td>\n",
       "      <td>...</td>\n",
       "      <td>...</td>\n",
       "      <td>...</td>\n",
       "      <td>...</td>\n",
       "      <td>...</td>\n",
       "    </tr>\n",
       "    <tr>\n",
       "      <th>173</th>\n",
       "      <td>60</td>\n",
       "      <td>92</td>\n",
       "      <td>70</td>\n",
       "      <td>241</td>\n",
       "      <td>1</td>\n",
       "      <td>17193</td>\n",
       "      <td>35</td>\n",
       "      <td>47</td>\n",
       "      <td>31</td>\n",
       "      <td>38</td>\n",
       "      <td>74</td>\n",
       "      <td>56.0</td>\n",
       "    </tr>\n",
       "    <tr>\n",
       "      <th>174</th>\n",
       "      <td>56</td>\n",
       "      <td>97</td>\n",
       "      <td>43</td>\n",
       "      <td>241</td>\n",
       "      <td>0</td>\n",
       "      <td>17194</td>\n",
       "      <td>37</td>\n",
       "      <td>94</td>\n",
       "      <td>54</td>\n",
       "      <td>62</td>\n",
       "      <td>66</td>\n",
       "      <td>64.0</td>\n",
       "    </tr>\n",
       "    <tr>\n",
       "      <th>175</th>\n",
       "      <td>97</td>\n",
       "      <td>37</td>\n",
       "      <td>65</td>\n",
       "      <td>241</td>\n",
       "      <td>0</td>\n",
       "      <td>17195</td>\n",
       "      <td>45</td>\n",
       "      <td>57</td>\n",
       "      <td>67</td>\n",
       "      <td>57</td>\n",
       "      <td>67</td>\n",
       "      <td>62.0</td>\n",
       "    </tr>\n",
       "    <tr>\n",
       "      <th>176</th>\n",
       "      <td>88</td>\n",
       "      <td>88</td>\n",
       "      <td>41</td>\n",
       "      <td>241</td>\n",
       "      <td>0</td>\n",
       "      <td>17196</td>\n",
       "      <td>51</td>\n",
       "      <td>77</td>\n",
       "      <td>69</td>\n",
       "      <td>66</td>\n",
       "      <td>73</td>\n",
       "      <td>69.5</td>\n",
       "    </tr>\n",
       "    <tr>\n",
       "      <th>177</th>\n",
       "      <td>91</td>\n",
       "      <td>54</td>\n",
       "      <td>95</td>\n",
       "      <td>241</td>\n",
       "      <td>0</td>\n",
       "      <td>17197</td>\n",
       "      <td>79</td>\n",
       "      <td>46</td>\n",
       "      <td>52</td>\n",
       "      <td>59</td>\n",
       "      <td>80</td>\n",
       "      <td>69.5</td>\n",
       "    </tr>\n",
       "  </tbody>\n",
       "</table>\n",
       "<p>178 rows × 12 columns</p>\n",
       "</div>"
      ],
      "text/plain": [
       "     DAA  OS  COA  College Code  Gender  Roll no  Math  Physics  PPS  \\\n",
       "0     32  69   34           115       1    17020    61       37   83   \n",
       "1     94  43   44           115       0    17021    62       87   55   \n",
       "2     87  78   72           115       1    17022    51       54   32   \n",
       "3     68  68   30           115       0    17023    76       91   44   \n",
       "4     46  68   33           115       0    17024    90       95   91   \n",
       "..   ...  ..  ...           ...     ...      ...   ...      ...  ...   \n",
       "173   60  92   70           241       1    17193    35       47   31   \n",
       "174   56  97   43           241       0    17194    37       94   54   \n",
       "175   97  37   65           241       0    17195    45       57   67   \n",
       "176   88  88   41           241       0    17196    51       77   69   \n",
       "177   91  54   95           241       0    17197    79       46   52   \n",
       "\n",
       "     1st SEM Percentage  2nd SEM Percentage  Average  \n",
       "0                    61                  45     53.0  \n",
       "1                    68                  61     64.5  \n",
       "2                    46                  79     62.5  \n",
       "3                    71                  56     63.5  \n",
       "4                    92                  49     70.5  \n",
       "..                  ...                 ...      ...  \n",
       "173                  38                  74     56.0  \n",
       "174                  62                  66     64.0  \n",
       "175                  57                  67     62.0  \n",
       "176                  66                  73     69.5  \n",
       "177                  59                  80     69.5  \n",
       "\n",
       "[178 rows x 12 columns]"
      ]
     },
     "execution_count": 33,
     "metadata": {},
     "output_type": "execute_result"
    }
   ],
   "source": [
    "X"
   ]
  },
  {
   "cell_type": "code",
   "execution_count": 34,
   "id": "7dc9d9be",
   "metadata": {},
   "outputs": [
    {
     "data": {
      "text/plain": [
       "0      3\n",
       "1      2\n",
       "2      2\n",
       "3      2\n",
       "4      1\n",
       "      ..\n",
       "173    2\n",
       "174    2\n",
       "175    2\n",
       "176    2\n",
       "177    2\n",
       "Name: Grades, Length: 178, dtype: int64"
      ]
     },
     "execution_count": 34,
     "metadata": {},
     "output_type": "execute_result"
    }
   ],
   "source": [
    "y"
   ]
  },
  {
   "cell_type": "code",
   "execution_count": 35,
   "id": "1f2e37ba",
   "metadata": {},
   "outputs": [],
   "source": [
    "from sklearn.model_selection import train_test_split\n",
    "X_train,X_test,y_train,y_test = train_test_split(X, y,test_size=0.25,random_state = 99)"
   ]
  },
  {
   "cell_type": "code",
   "execution_count": 36,
   "id": "98392f3b",
   "metadata": {},
   "outputs": [
    {
     "data": {
      "text/plain": [
       "pandas.core.frame.DataFrame"
      ]
     },
     "execution_count": 36,
     "metadata": {},
     "output_type": "execute_result"
    }
   ],
   "source": [
    "type(X_train)"
   ]
  },
  {
   "cell_type": "code",
   "execution_count": 37,
   "id": "b93881e2",
   "metadata": {},
   "outputs": [
    {
     "data": {
      "text/plain": [
       "pandas.core.series.Series"
      ]
     },
     "execution_count": 37,
     "metadata": {},
     "output_type": "execute_result"
    }
   ],
   "source": [
    "type(y_train)"
   ]
  },
  {
   "cell_type": "code",
   "execution_count": 38,
   "id": "ea10a2d7",
   "metadata": {},
   "outputs": [
    {
     "data": {
      "text/html": [
       "<div>\n",
       "<style scoped>\n",
       "    .dataframe tbody tr th:only-of-type {\n",
       "        vertical-align: middle;\n",
       "    }\n",
       "\n",
       "    .dataframe tbody tr th {\n",
       "        vertical-align: top;\n",
       "    }\n",
       "\n",
       "    .dataframe thead th {\n",
       "        text-align: right;\n",
       "    }\n",
       "</style>\n",
       "<table border=\"1\" class=\"dataframe\">\n",
       "  <thead>\n",
       "    <tr style=\"text-align: right;\">\n",
       "      <th></th>\n",
       "      <th>DAA</th>\n",
       "      <th>OS</th>\n",
       "      <th>COA</th>\n",
       "      <th>College Code</th>\n",
       "      <th>Gender</th>\n",
       "      <th>Roll no</th>\n",
       "      <th>Math</th>\n",
       "      <th>Physics</th>\n",
       "      <th>PPS</th>\n",
       "      <th>1st SEM Percentage</th>\n",
       "      <th>2nd SEM Percentage</th>\n",
       "      <th>Average</th>\n",
       "    </tr>\n",
       "  </thead>\n",
       "  <tbody>\n",
       "    <tr>\n",
       "      <th>98</th>\n",
       "      <td>65</td>\n",
       "      <td>48</td>\n",
       "      <td>96</td>\n",
       "      <td>116</td>\n",
       "      <td>0</td>\n",
       "      <td>17118</td>\n",
       "      <td>43</td>\n",
       "      <td>62</td>\n",
       "      <td>100</td>\n",
       "      <td>69</td>\n",
       "      <td>70</td>\n",
       "      <td>69.5</td>\n",
       "    </tr>\n",
       "    <tr>\n",
       "      <th>70</th>\n",
       "      <td>32</td>\n",
       "      <td>93</td>\n",
       "      <td>37</td>\n",
       "      <td>165</td>\n",
       "      <td>0</td>\n",
       "      <td>17090</td>\n",
       "      <td>88</td>\n",
       "      <td>63</td>\n",
       "      <td>96</td>\n",
       "      <td>83</td>\n",
       "      <td>54</td>\n",
       "      <td>68.5</td>\n",
       "    </tr>\n",
       "    <tr>\n",
       "      <th>139</th>\n",
       "      <td>48</td>\n",
       "      <td>35</td>\n",
       "      <td>44</td>\n",
       "      <td>116</td>\n",
       "      <td>0</td>\n",
       "      <td>17159</td>\n",
       "      <td>98</td>\n",
       "      <td>45</td>\n",
       "      <td>63</td>\n",
       "      <td>69</td>\n",
       "      <td>43</td>\n",
       "      <td>56.0</td>\n",
       "    </tr>\n",
       "    <tr>\n",
       "      <th>82</th>\n",
       "      <td>54</td>\n",
       "      <td>73</td>\n",
       "      <td>51</td>\n",
       "      <td>165</td>\n",
       "      <td>0</td>\n",
       "      <td>17102</td>\n",
       "      <td>74</td>\n",
       "      <td>34</td>\n",
       "      <td>62</td>\n",
       "      <td>57</td>\n",
       "      <td>60</td>\n",
       "      <td>58.5</td>\n",
       "    </tr>\n",
       "    <tr>\n",
       "      <th>57</th>\n",
       "      <td>60</td>\n",
       "      <td>39</td>\n",
       "      <td>52</td>\n",
       "      <td>165</td>\n",
       "      <td>0</td>\n",
       "      <td>17077</td>\n",
       "      <td>69</td>\n",
       "      <td>51</td>\n",
       "      <td>93</td>\n",
       "      <td>71</td>\n",
       "      <td>51</td>\n",
       "      <td>61.0</td>\n",
       "    </tr>\n",
       "    <tr>\n",
       "      <th>...</th>\n",
       "      <td>...</td>\n",
       "      <td>...</td>\n",
       "      <td>...</td>\n",
       "      <td>...</td>\n",
       "      <td>...</td>\n",
       "      <td>...</td>\n",
       "      <td>...</td>\n",
       "      <td>...</td>\n",
       "      <td>...</td>\n",
       "      <td>...</td>\n",
       "      <td>...</td>\n",
       "      <td>...</td>\n",
       "    </tr>\n",
       "    <tr>\n",
       "      <th>177</th>\n",
       "      <td>91</td>\n",
       "      <td>54</td>\n",
       "      <td>95</td>\n",
       "      <td>241</td>\n",
       "      <td>0</td>\n",
       "      <td>17197</td>\n",
       "      <td>79</td>\n",
       "      <td>46</td>\n",
       "      <td>52</td>\n",
       "      <td>59</td>\n",
       "      <td>80</td>\n",
       "      <td>69.5</td>\n",
       "    </tr>\n",
       "    <tr>\n",
       "      <th>68</th>\n",
       "      <td>71</td>\n",
       "      <td>78</td>\n",
       "      <td>37</td>\n",
       "      <td>165</td>\n",
       "      <td>1</td>\n",
       "      <td>17088</td>\n",
       "      <td>59</td>\n",
       "      <td>52</td>\n",
       "      <td>73</td>\n",
       "      <td>62</td>\n",
       "      <td>62</td>\n",
       "      <td>62.0</td>\n",
       "    </tr>\n",
       "    <tr>\n",
       "      <th>168</th>\n",
       "      <td>90</td>\n",
       "      <td>80</td>\n",
       "      <td>31</td>\n",
       "      <td>241</td>\n",
       "      <td>0</td>\n",
       "      <td>17188</td>\n",
       "      <td>62</td>\n",
       "      <td>87</td>\n",
       "      <td>33</td>\n",
       "      <td>61</td>\n",
       "      <td>67</td>\n",
       "      <td>64.0</td>\n",
       "    </tr>\n",
       "    <tr>\n",
       "      <th>35</th>\n",
       "      <td>82</td>\n",
       "      <td>31</td>\n",
       "      <td>39</td>\n",
       "      <td>115</td>\n",
       "      <td>0</td>\n",
       "      <td>17055</td>\n",
       "      <td>55</td>\n",
       "      <td>39</td>\n",
       "      <td>77</td>\n",
       "      <td>57</td>\n",
       "      <td>51</td>\n",
       "      <td>54.0</td>\n",
       "    </tr>\n",
       "    <tr>\n",
       "      <th>129</th>\n",
       "      <td>58</td>\n",
       "      <td>92</td>\n",
       "      <td>40</td>\n",
       "      <td>116</td>\n",
       "      <td>0</td>\n",
       "      <td>17149</td>\n",
       "      <td>62</td>\n",
       "      <td>66</td>\n",
       "      <td>89</td>\n",
       "      <td>73</td>\n",
       "      <td>64</td>\n",
       "      <td>68.5</td>\n",
       "    </tr>\n",
       "  </tbody>\n",
       "</table>\n",
       "<p>133 rows × 12 columns</p>\n",
       "</div>"
      ],
      "text/plain": [
       "     DAA  OS  COA  College Code  Gender  Roll no  Math  Physics  PPS  \\\n",
       "98    65  48   96           116       0    17118    43       62  100   \n",
       "70    32  93   37           165       0    17090    88       63   96   \n",
       "139   48  35   44           116       0    17159    98       45   63   \n",
       "82    54  73   51           165       0    17102    74       34   62   \n",
       "57    60  39   52           165       0    17077    69       51   93   \n",
       "..   ...  ..  ...           ...     ...      ...   ...      ...  ...   \n",
       "177   91  54   95           241       0    17197    79       46   52   \n",
       "68    71  78   37           165       1    17088    59       52   73   \n",
       "168   90  80   31           241       0    17188    62       87   33   \n",
       "35    82  31   39           115       0    17055    55       39   77   \n",
       "129   58  92   40           116       0    17149    62       66   89   \n",
       "\n",
       "     1st SEM Percentage  2nd SEM Percentage  Average  \n",
       "98                   69                  70     69.5  \n",
       "70                   83                  54     68.5  \n",
       "139                  69                  43     56.0  \n",
       "82                   57                  60     58.5  \n",
       "57                   71                  51     61.0  \n",
       "..                  ...                 ...      ...  \n",
       "177                  59                  80     69.5  \n",
       "68                   62                  62     62.0  \n",
       "168                  61                  67     64.0  \n",
       "35                   57                  51     54.0  \n",
       "129                  73                  64     68.5  \n",
       "\n",
       "[133 rows x 12 columns]"
      ]
     },
     "execution_count": 38,
     "metadata": {},
     "output_type": "execute_result"
    }
   ],
   "source": [
    "X_train"
   ]
  },
  {
   "cell_type": "code",
   "execution_count": 39,
   "id": "09fe483b",
   "metadata": {},
   "outputs": [
    {
     "data": {
      "text/plain": [
       "98     2\n",
       "70     2\n",
       "139    2\n",
       "82     2\n",
       "57     2\n",
       "      ..\n",
       "177    2\n",
       "68     2\n",
       "168    2\n",
       "35     3\n",
       "129    2\n",
       "Name: Grades, Length: 133, dtype: int64"
      ]
     },
     "execution_count": 39,
     "metadata": {},
     "output_type": "execute_result"
    }
   ],
   "source": [
    "y_train"
   ]
  },
  {
   "cell_type": "code",
   "execution_count": 40,
   "id": "394580c4",
   "metadata": {},
   "outputs": [
    {
     "data": {
      "text/plain": [
       "(133, 12)"
      ]
     },
     "execution_count": 40,
     "metadata": {},
     "output_type": "execute_result"
    }
   ],
   "source": [
    "X_train.shape"
   ]
  },
  {
   "cell_type": "code",
   "execution_count": 41,
   "id": "e3f71039",
   "metadata": {},
   "outputs": [
    {
     "data": {
      "text/plain": [
       "(133,)"
      ]
     },
     "execution_count": 41,
     "metadata": {},
     "output_type": "execute_result"
    }
   ],
   "source": [
    "y_train.shape"
   ]
  },
  {
   "cell_type": "code",
   "execution_count": 94,
   "id": "4ad1f2aa",
   "metadata": {},
   "outputs": [],
   "source": [
    "from sklearn.ensemble import RandomForestClassifier\n",
    "clf = RandomForestClassifier(criterion = \"gini\",\n",
    "                            max_depth = 8,\n",
    "                            min_samples_split = 10,\n",
    "                            max_samples=0.75,\n",
    "                            random_state = 5)"
   ]
  },
  {
   "cell_type": "code",
   "execution_count": 95,
   "id": "cdc2ae12",
   "metadata": {},
   "outputs": [
    {
     "data": {
      "text/html": [
       "<style>#sk-container-id-13 {color: black;}#sk-container-id-13 pre{padding: 0;}#sk-container-id-13 div.sk-toggleable {background-color: white;}#sk-container-id-13 label.sk-toggleable__label {cursor: pointer;display: block;width: 100%;margin-bottom: 0;padding: 0.3em;box-sizing: border-box;text-align: center;}#sk-container-id-13 label.sk-toggleable__label-arrow:before {content: \"▸\";float: left;margin-right: 0.25em;color: #696969;}#sk-container-id-13 label.sk-toggleable__label-arrow:hover:before {color: black;}#sk-container-id-13 div.sk-estimator:hover label.sk-toggleable__label-arrow:before {color: black;}#sk-container-id-13 div.sk-toggleable__content {max-height: 0;max-width: 0;overflow: hidden;text-align: left;background-color: #f0f8ff;}#sk-container-id-13 div.sk-toggleable__content pre {margin: 0.2em;color: black;border-radius: 0.25em;background-color: #f0f8ff;}#sk-container-id-13 input.sk-toggleable__control:checked~div.sk-toggleable__content {max-height: 200px;max-width: 100%;overflow: auto;}#sk-container-id-13 input.sk-toggleable__control:checked~label.sk-toggleable__label-arrow:before {content: \"▾\";}#sk-container-id-13 div.sk-estimator input.sk-toggleable__control:checked~label.sk-toggleable__label {background-color: #d4ebff;}#sk-container-id-13 div.sk-label input.sk-toggleable__control:checked~label.sk-toggleable__label {background-color: #d4ebff;}#sk-container-id-13 input.sk-hidden--visually {border: 0;clip: rect(1px 1px 1px 1px);clip: rect(1px, 1px, 1px, 1px);height: 1px;margin: -1px;overflow: hidden;padding: 0;position: absolute;width: 1px;}#sk-container-id-13 div.sk-estimator {font-family: monospace;background-color: #f0f8ff;border: 1px dotted black;border-radius: 0.25em;box-sizing: border-box;margin-bottom: 0.5em;}#sk-container-id-13 div.sk-estimator:hover {background-color: #d4ebff;}#sk-container-id-13 div.sk-parallel-item::after {content: \"\";width: 100%;border-bottom: 1px solid gray;flex-grow: 1;}#sk-container-id-13 div.sk-label:hover label.sk-toggleable__label {background-color: #d4ebff;}#sk-container-id-13 div.sk-serial::before {content: \"\";position: absolute;border-left: 1px solid gray;box-sizing: border-box;top: 0;bottom: 0;left: 50%;z-index: 0;}#sk-container-id-13 div.sk-serial {display: flex;flex-direction: column;align-items: center;background-color: white;padding-right: 0.2em;padding-left: 0.2em;position: relative;}#sk-container-id-13 div.sk-item {position: relative;z-index: 1;}#sk-container-id-13 div.sk-parallel {display: flex;align-items: stretch;justify-content: center;background-color: white;position: relative;}#sk-container-id-13 div.sk-item::before, #sk-container-id-13 div.sk-parallel-item::before {content: \"\";position: absolute;border-left: 1px solid gray;box-sizing: border-box;top: 0;bottom: 0;left: 50%;z-index: -1;}#sk-container-id-13 div.sk-parallel-item {display: flex;flex-direction: column;z-index: 1;position: relative;background-color: white;}#sk-container-id-13 div.sk-parallel-item:first-child::after {align-self: flex-end;width: 50%;}#sk-container-id-13 div.sk-parallel-item:last-child::after {align-self: flex-start;width: 50%;}#sk-container-id-13 div.sk-parallel-item:only-child::after {width: 0;}#sk-container-id-13 div.sk-dashed-wrapped {border: 1px dashed gray;margin: 0 0.4em 0.5em 0.4em;box-sizing: border-box;padding-bottom: 0.4em;background-color: white;}#sk-container-id-13 div.sk-label label {font-family: monospace;font-weight: bold;display: inline-block;line-height: 1.2em;}#sk-container-id-13 div.sk-label-container {text-align: center;}#sk-container-id-13 div.sk-container {/* jupyter's `normalize.less` sets `[hidden] { display: none; }` but bootstrap.min.css set `[hidden] { display: none !important; }` so we also need the `!important` here to be able to override the default hidden behavior on the sphinx rendered scikit-learn.org. See: https://github.com/scikit-learn/scikit-learn/issues/21755 */display: inline-block !important;position: relative;}#sk-container-id-13 div.sk-text-repr-fallback {display: none;}</style><div id=\"sk-container-id-13\" class=\"sk-top-container\"><div class=\"sk-text-repr-fallback\"><pre>RandomForestClassifier(max_depth=8, max_samples=0.75, min_samples_split=10,\n",
       "                       random_state=5)</pre><b>In a Jupyter environment, please rerun this cell to show the HTML representation or trust the notebook. <br />On GitHub, the HTML representation is unable to render, please try loading this page with nbviewer.org.</b></div><div class=\"sk-container\" hidden><div class=\"sk-item\"><div class=\"sk-estimator sk-toggleable\"><input class=\"sk-toggleable__control sk-hidden--visually\" id=\"sk-estimator-id-35\" type=\"checkbox\" checked><label for=\"sk-estimator-id-35\" class=\"sk-toggleable__label sk-toggleable__label-arrow\">RandomForestClassifier</label><div class=\"sk-toggleable__content\"><pre>RandomForestClassifier(max_depth=8, max_samples=0.75, min_samples_split=10,\n",
       "                       random_state=5)</pre></div></div></div></div></div>"
      ],
      "text/plain": [
       "RandomForestClassifier(max_depth=8, max_samples=0.75, min_samples_split=10,\n",
       "                       random_state=5)"
      ]
     },
     "execution_count": 95,
     "metadata": {},
     "output_type": "execute_result"
    }
   ],
   "source": [
    "clf.fit(X_train,y_train)"
   ]
  },
  {
   "cell_type": "code",
   "execution_count": 96,
   "id": "7a69ee5e",
   "metadata": {},
   "outputs": [],
   "source": [
    "predictions=clf.predict(X_test)"
   ]
  },
  {
   "cell_type": "code",
   "execution_count": 97,
   "id": "f150620a",
   "metadata": {},
   "outputs": [
    {
     "data": {
      "text/plain": [
       "array([2, 2, 1, 2, 3, 2, 2, 2, 2, 2, 3, 2, 1, 2, 2, 2, 1, 2, 2, 2, 2, 1,\n",
       "       2, 2, 1, 2, 1, 1, 2, 2, 2, 1, 1, 3, 1, 2, 2, 2, 1, 3, 2, 1, 2, 1,\n",
       "       1], dtype=int64)"
      ]
     },
     "execution_count": 97,
     "metadata": {},
     "output_type": "execute_result"
    }
   ],
   "source": [
    "predictions"
   ]
  },
  {
   "cell_type": "code",
   "execution_count": 98,
   "id": "44d399a1",
   "metadata": {},
   "outputs": [
    {
     "name": "stdout",
     "output_type": "stream",
     "text": [
      "Accuracy: 1.0\n"
     ]
    }
   ],
   "source": [
    "from sklearn.metrics import accuracy_score\n",
    "\n",
    "accuracy = accuracy_score(y_test, predictions)\n",
    "print(\"Accuracy:\", accuracy)"
   ]
  },
  {
   "cell_type": "code",
   "execution_count": 103,
   "id": "ae2b3b4d",
   "metadata": {},
   "outputs": [
    {
     "data": {
      "text/plain": [
       "0.9719047619047618"
      ]
     },
     "execution_count": 103,
     "metadata": {},
     "output_type": "execute_result"
    }
   ],
   "source": [
    "from sklearn.model_selection import cross_val_score\n",
    "from sklearn.model_selection import KFold\n",
    "import numpy as np\n",
    "np.mean(cross_val_score(RandomForestClassifier(),X,y,cv=KFold(n_splits=5),scoring='accuracy'))"
   ]
  },
  {
   "cell_type": "markdown",
   "id": "82f7d977",
   "metadata": {},
   "source": [
    "# Hyperparameter Tuning"
   ]
  },
  {
   "cell_type": "code",
   "execution_count": 47,
   "id": "2463e087",
   "metadata": {},
   "outputs": [],
   "source": [
    "n_estimators = [20,60,100,120]\n",
    "\n",
    "max_features = [0.2,0.6,1.0]\n",
    "\n",
    "max_depth = [2,8,None]\n",
    "\n",
    "max_samples = [0.5,0.75,1.0]"
   ]
  },
  {
   "cell_type": "code",
   "execution_count": 48,
   "id": "c8607c1c",
   "metadata": {},
   "outputs": [
    {
     "name": "stdout",
     "output_type": "stream",
     "text": [
      "{'n_estimators': [20, 60, 100, 120], 'max_features': [0.2, 0.6, 1.0], 'max_depth': [2, 8, None], 'max_samples': [0.5, 0.75, 1.0]}\n"
     ]
    }
   ],
   "source": [
    "param_grid = {\n",
    "    'n_estimators':n_estimators,\n",
    "    'max_features':max_features,\n",
    "    'max_depth':max_depth,\n",
    "    'max_samples':max_samples\n",
    "}\n",
    "print(param_grid)"
   ]
  },
  {
   "cell_type": "code",
   "execution_count": 63,
   "id": "ceceb806",
   "metadata": {},
   "outputs": [],
   "source": [
    "rf = RandomForestClassifier()"
   ]
  },
  {
   "cell_type": "code",
   "execution_count": 90,
   "id": "c065f630",
   "metadata": {},
   "outputs": [],
   "source": [
    "from sklearn.model_selection import KFold,GridSearchCV\n",
    "\n",
    "rf_grid = GridSearchCV(rf,param_grid=param_grid,cv=KFold(n_splits=10),n_jobs=-1,scoring='accuracy') "
   ]
  },
  {
   "cell_type": "code",
   "execution_count": 91,
   "id": "db2efeac",
   "metadata": {},
   "outputs": [
    {
     "data": {
      "text/html": [
       "<style>#sk-container-id-12 {color: black;}#sk-container-id-12 pre{padding: 0;}#sk-container-id-12 div.sk-toggleable {background-color: white;}#sk-container-id-12 label.sk-toggleable__label {cursor: pointer;display: block;width: 100%;margin-bottom: 0;padding: 0.3em;box-sizing: border-box;text-align: center;}#sk-container-id-12 label.sk-toggleable__label-arrow:before {content: \"▸\";float: left;margin-right: 0.25em;color: #696969;}#sk-container-id-12 label.sk-toggleable__label-arrow:hover:before {color: black;}#sk-container-id-12 div.sk-estimator:hover label.sk-toggleable__label-arrow:before {color: black;}#sk-container-id-12 div.sk-toggleable__content {max-height: 0;max-width: 0;overflow: hidden;text-align: left;background-color: #f0f8ff;}#sk-container-id-12 div.sk-toggleable__content pre {margin: 0.2em;color: black;border-radius: 0.25em;background-color: #f0f8ff;}#sk-container-id-12 input.sk-toggleable__control:checked~div.sk-toggleable__content {max-height: 200px;max-width: 100%;overflow: auto;}#sk-container-id-12 input.sk-toggleable__control:checked~label.sk-toggleable__label-arrow:before {content: \"▾\";}#sk-container-id-12 div.sk-estimator input.sk-toggleable__control:checked~label.sk-toggleable__label {background-color: #d4ebff;}#sk-container-id-12 div.sk-label input.sk-toggleable__control:checked~label.sk-toggleable__label {background-color: #d4ebff;}#sk-container-id-12 input.sk-hidden--visually {border: 0;clip: rect(1px 1px 1px 1px);clip: rect(1px, 1px, 1px, 1px);height: 1px;margin: -1px;overflow: hidden;padding: 0;position: absolute;width: 1px;}#sk-container-id-12 div.sk-estimator {font-family: monospace;background-color: #f0f8ff;border: 1px dotted black;border-radius: 0.25em;box-sizing: border-box;margin-bottom: 0.5em;}#sk-container-id-12 div.sk-estimator:hover {background-color: #d4ebff;}#sk-container-id-12 div.sk-parallel-item::after {content: \"\";width: 100%;border-bottom: 1px solid gray;flex-grow: 1;}#sk-container-id-12 div.sk-label:hover label.sk-toggleable__label {background-color: #d4ebff;}#sk-container-id-12 div.sk-serial::before {content: \"\";position: absolute;border-left: 1px solid gray;box-sizing: border-box;top: 0;bottom: 0;left: 50%;z-index: 0;}#sk-container-id-12 div.sk-serial {display: flex;flex-direction: column;align-items: center;background-color: white;padding-right: 0.2em;padding-left: 0.2em;position: relative;}#sk-container-id-12 div.sk-item {position: relative;z-index: 1;}#sk-container-id-12 div.sk-parallel {display: flex;align-items: stretch;justify-content: center;background-color: white;position: relative;}#sk-container-id-12 div.sk-item::before, #sk-container-id-12 div.sk-parallel-item::before {content: \"\";position: absolute;border-left: 1px solid gray;box-sizing: border-box;top: 0;bottom: 0;left: 50%;z-index: -1;}#sk-container-id-12 div.sk-parallel-item {display: flex;flex-direction: column;z-index: 1;position: relative;background-color: white;}#sk-container-id-12 div.sk-parallel-item:first-child::after {align-self: flex-end;width: 50%;}#sk-container-id-12 div.sk-parallel-item:last-child::after {align-self: flex-start;width: 50%;}#sk-container-id-12 div.sk-parallel-item:only-child::after {width: 0;}#sk-container-id-12 div.sk-dashed-wrapped {border: 1px dashed gray;margin: 0 0.4em 0.5em 0.4em;box-sizing: border-box;padding-bottom: 0.4em;background-color: white;}#sk-container-id-12 div.sk-label label {font-family: monospace;font-weight: bold;display: inline-block;line-height: 1.2em;}#sk-container-id-12 div.sk-label-container {text-align: center;}#sk-container-id-12 div.sk-container {/* jupyter's `normalize.less` sets `[hidden] { display: none; }` but bootstrap.min.css set `[hidden] { display: none !important; }` so we also need the `!important` here to be able to override the default hidden behavior on the sphinx rendered scikit-learn.org. See: https://github.com/scikit-learn/scikit-learn/issues/21755 */display: inline-block !important;position: relative;}#sk-container-id-12 div.sk-text-repr-fallback {display: none;}</style><div id=\"sk-container-id-12\" class=\"sk-top-container\"><div class=\"sk-text-repr-fallback\"><pre>GridSearchCV(cv=KFold(n_splits=10, random_state=None, shuffle=False),\n",
       "             estimator=RandomForestClassifier(), n_jobs=-1,\n",
       "             param_grid={&#x27;max_depth&#x27;: [2, 8, None],\n",
       "                         &#x27;max_features&#x27;: [0.2, 0.6, 1.0],\n",
       "                         &#x27;max_samples&#x27;: [0.5, 0.75, 1.0],\n",
       "                         &#x27;n_estimators&#x27;: [20, 60, 100, 120]},\n",
       "             scoring=&#x27;accuracy&#x27;)</pre><b>In a Jupyter environment, please rerun this cell to show the HTML representation or trust the notebook. <br />On GitHub, the HTML representation is unable to render, please try loading this page with nbviewer.org.</b></div><div class=\"sk-container\" hidden><div class=\"sk-item sk-dashed-wrapped\"><div class=\"sk-label-container\"><div class=\"sk-label sk-toggleable\"><input class=\"sk-toggleable__control sk-hidden--visually\" id=\"sk-estimator-id-32\" type=\"checkbox\" ><label for=\"sk-estimator-id-32\" class=\"sk-toggleable__label sk-toggleable__label-arrow\">GridSearchCV</label><div class=\"sk-toggleable__content\"><pre>GridSearchCV(cv=KFold(n_splits=10, random_state=None, shuffle=False),\n",
       "             estimator=RandomForestClassifier(), n_jobs=-1,\n",
       "             param_grid={&#x27;max_depth&#x27;: [2, 8, None],\n",
       "                         &#x27;max_features&#x27;: [0.2, 0.6, 1.0],\n",
       "                         &#x27;max_samples&#x27;: [0.5, 0.75, 1.0],\n",
       "                         &#x27;n_estimators&#x27;: [20, 60, 100, 120]},\n",
       "             scoring=&#x27;accuracy&#x27;)</pre></div></div></div><div class=\"sk-parallel\"><div class=\"sk-parallel-item\"><div class=\"sk-item\"><div class=\"sk-label-container\"><div class=\"sk-label sk-toggleable\"><input class=\"sk-toggleable__control sk-hidden--visually\" id=\"sk-estimator-id-33\" type=\"checkbox\" ><label for=\"sk-estimator-id-33\" class=\"sk-toggleable__label sk-toggleable__label-arrow\">estimator: RandomForestClassifier</label><div class=\"sk-toggleable__content\"><pre>RandomForestClassifier()</pre></div></div></div><div class=\"sk-serial\"><div class=\"sk-item\"><div class=\"sk-estimator sk-toggleable\"><input class=\"sk-toggleable__control sk-hidden--visually\" id=\"sk-estimator-id-34\" type=\"checkbox\" ><label for=\"sk-estimator-id-34\" class=\"sk-toggleable__label sk-toggleable__label-arrow\">RandomForestClassifier</label><div class=\"sk-toggleable__content\"><pre>RandomForestClassifier()</pre></div></div></div></div></div></div></div></div></div></div>"
      ],
      "text/plain": [
       "GridSearchCV(cv=KFold(n_splits=10, random_state=None, shuffle=False),\n",
       "             estimator=RandomForestClassifier(), n_jobs=-1,\n",
       "             param_grid={'max_depth': [2, 8, None],\n",
       "                         'max_features': [0.2, 0.6, 1.0],\n",
       "                         'max_samples': [0.5, 0.75, 1.0],\n",
       "                         'n_estimators': [20, 60, 100, 120]},\n",
       "             scoring='accuracy')"
      ]
     },
     "execution_count": 91,
     "metadata": {},
     "output_type": "execute_result"
    }
   ],
   "source": [
    "rf_grid.fit(X_train,y_train)"
   ]
  },
  {
   "cell_type": "code",
   "execution_count": 92,
   "id": "a9a82f6c",
   "metadata": {},
   "outputs": [
    {
     "data": {
      "text/plain": [
       "{'max_depth': 2, 'max_features': 1.0, 'max_samples': 1.0, 'n_estimators': 20}"
      ]
     },
     "execution_count": 92,
     "metadata": {},
     "output_type": "execute_result"
    }
   ],
   "source": [
    "rf_grid.best_params_"
   ]
  },
  {
   "cell_type": "code",
   "execution_count": 93,
   "id": "0f27b186",
   "metadata": {},
   "outputs": [
    {
     "data": {
      "text/plain": [
       "1.0"
      ]
     },
     "execution_count": 93,
     "metadata": {},
     "output_type": "execute_result"
    }
   ],
   "source": [
    "rf_grid.best_score_"
   ]
  },
  {
   "cell_type": "code",
   "execution_count": 104,
   "id": "55d0d05d",
   "metadata": {},
   "outputs": [],
   "source": [
    "n_estimators = [20,60,100,120]\n",
    "\n",
    "max_features = [0.2,0.6,1.0]\n",
    "\n",
    "max_depth = [2,8,None]\n",
    "\n",
    "max_samples = [0.5,0.75,1.0]\n",
    "\n",
    "bootstrap = [True,False]\n",
    "\n",
    "min_samples_split=[2,5]\n",
    "\n",
    "min_samples_leaf = [1,2]"
   ]
  },
  {
   "cell_type": "code",
   "execution_count": 105,
   "id": "7ff20bce",
   "metadata": {},
   "outputs": [
    {
     "name": "stdout",
     "output_type": "stream",
     "text": [
      "{'n_estimators': [20, 60, 100, 120], 'max_features': [0.2, 0.6, 1.0], 'max_depth': [2, 8, None], 'max_samples': [0.5, 0.75, 1.0], 'bootstrap': [True, False], 'min_samples_split': [2, 5], 'min_samples_leaf': [1, 2]}\n"
     ]
    }
   ],
   "source": [
    "param_grid = {\n",
    "    'n_estimators':n_estimators,\n",
    "    'max_features':max_features,\n",
    "    'max_depth':max_depth,\n",
    "    'max_samples':max_samples,\n",
    "    'bootstrap':bootstrap,\n",
    "    'min_samples_split':min_samples_split,\n",
    "    'min_samples_leaf':min_samples_leaf\n",
    "}\n",
    "print(param_grid)"
   ]
  },
  {
   "cell_type": "code",
   "execution_count": 114,
   "id": "1536d4df",
   "metadata": {},
   "outputs": [],
   "source": [
    "from sklearn.model_selection import KFold,RandomizedSearchCV\n",
    "\n",
    "rf_grid = RandomizedSearchCV(rf,param_distributions=param_grid,cv=KFold(n_splits=5),n_jobs=-1,scoring='accuracy') "
   ]
  },
  {
   "cell_type": "code",
   "execution_count": 115,
   "id": "aca3a2c5",
   "metadata": {},
   "outputs": [
    {
     "name": "stderr",
     "output_type": "stream",
     "text": [
      "C:\\anacoda\\envs\\tf_new\\lib\\site-packages\\sklearn\\model_selection\\_validation.py:425: FitFailedWarning: \n",
      "25 fits failed out of a total of 50.\n",
      "The score on these train-test partitions for these parameters will be set to nan.\n",
      "If these failures are not expected, you can try to debug them by setting error_score='raise'.\n",
      "\n",
      "Below are more details about the failures:\n",
      "--------------------------------------------------------------------------------\n",
      "25 fits failed with the following error:\n",
      "Traceback (most recent call last):\n",
      "  File \"C:\\anacoda\\envs\\tf_new\\lib\\site-packages\\sklearn\\model_selection\\_validation.py\", line 732, in _fit_and_score\n",
      "    estimator.fit(X_train, y_train, **fit_params)\n",
      "  File \"C:\\anacoda\\envs\\tf_new\\lib\\site-packages\\sklearn\\base.py\", line 1151, in wrapper\n",
      "    return fit_method(estimator, *args, **kwargs)\n",
      "  File \"C:\\anacoda\\envs\\tf_new\\lib\\site-packages\\sklearn\\ensemble\\_forest.py\", line 402, in fit\n",
      "    raise ValueError(\n",
      "ValueError: `max_sample` cannot be set if `bootstrap=False`. Either switch to `bootstrap=True` or set `max_sample=None`.\n",
      "\n",
      "  warnings.warn(some_fits_failed_message, FitFailedWarning)\n",
      "C:\\anacoda\\envs\\tf_new\\lib\\site-packages\\sklearn\\model_selection\\_search.py:976: UserWarning: One or more of the test scores are non-finite: [       nan 0.93162393 0.72820513 0.96980057        nan 0.97749288\n",
      "        nan        nan        nan 0.72877493]\n",
      "  warnings.warn(\n"
     ]
    },
    {
     "data": {
      "text/html": [
       "<style>#sk-container-id-16 {color: black;}#sk-container-id-16 pre{padding: 0;}#sk-container-id-16 div.sk-toggleable {background-color: white;}#sk-container-id-16 label.sk-toggleable__label {cursor: pointer;display: block;width: 100%;margin-bottom: 0;padding: 0.3em;box-sizing: border-box;text-align: center;}#sk-container-id-16 label.sk-toggleable__label-arrow:before {content: \"▸\";float: left;margin-right: 0.25em;color: #696969;}#sk-container-id-16 label.sk-toggleable__label-arrow:hover:before {color: black;}#sk-container-id-16 div.sk-estimator:hover label.sk-toggleable__label-arrow:before {color: black;}#sk-container-id-16 div.sk-toggleable__content {max-height: 0;max-width: 0;overflow: hidden;text-align: left;background-color: #f0f8ff;}#sk-container-id-16 div.sk-toggleable__content pre {margin: 0.2em;color: black;border-radius: 0.25em;background-color: #f0f8ff;}#sk-container-id-16 input.sk-toggleable__control:checked~div.sk-toggleable__content {max-height: 200px;max-width: 100%;overflow: auto;}#sk-container-id-16 input.sk-toggleable__control:checked~label.sk-toggleable__label-arrow:before {content: \"▾\";}#sk-container-id-16 div.sk-estimator input.sk-toggleable__control:checked~label.sk-toggleable__label {background-color: #d4ebff;}#sk-container-id-16 div.sk-label input.sk-toggleable__control:checked~label.sk-toggleable__label {background-color: #d4ebff;}#sk-container-id-16 input.sk-hidden--visually {border: 0;clip: rect(1px 1px 1px 1px);clip: rect(1px, 1px, 1px, 1px);height: 1px;margin: -1px;overflow: hidden;padding: 0;position: absolute;width: 1px;}#sk-container-id-16 div.sk-estimator {font-family: monospace;background-color: #f0f8ff;border: 1px dotted black;border-radius: 0.25em;box-sizing: border-box;margin-bottom: 0.5em;}#sk-container-id-16 div.sk-estimator:hover {background-color: #d4ebff;}#sk-container-id-16 div.sk-parallel-item::after {content: \"\";width: 100%;border-bottom: 1px solid gray;flex-grow: 1;}#sk-container-id-16 div.sk-label:hover label.sk-toggleable__label {background-color: #d4ebff;}#sk-container-id-16 div.sk-serial::before {content: \"\";position: absolute;border-left: 1px solid gray;box-sizing: border-box;top: 0;bottom: 0;left: 50%;z-index: 0;}#sk-container-id-16 div.sk-serial {display: flex;flex-direction: column;align-items: center;background-color: white;padding-right: 0.2em;padding-left: 0.2em;position: relative;}#sk-container-id-16 div.sk-item {position: relative;z-index: 1;}#sk-container-id-16 div.sk-parallel {display: flex;align-items: stretch;justify-content: center;background-color: white;position: relative;}#sk-container-id-16 div.sk-item::before, #sk-container-id-16 div.sk-parallel-item::before {content: \"\";position: absolute;border-left: 1px solid gray;box-sizing: border-box;top: 0;bottom: 0;left: 50%;z-index: -1;}#sk-container-id-16 div.sk-parallel-item {display: flex;flex-direction: column;z-index: 1;position: relative;background-color: white;}#sk-container-id-16 div.sk-parallel-item:first-child::after {align-self: flex-end;width: 50%;}#sk-container-id-16 div.sk-parallel-item:last-child::after {align-self: flex-start;width: 50%;}#sk-container-id-16 div.sk-parallel-item:only-child::after {width: 0;}#sk-container-id-16 div.sk-dashed-wrapped {border: 1px dashed gray;margin: 0 0.4em 0.5em 0.4em;box-sizing: border-box;padding-bottom: 0.4em;background-color: white;}#sk-container-id-16 div.sk-label label {font-family: monospace;font-weight: bold;display: inline-block;line-height: 1.2em;}#sk-container-id-16 div.sk-label-container {text-align: center;}#sk-container-id-16 div.sk-container {/* jupyter's `normalize.less` sets `[hidden] { display: none; }` but bootstrap.min.css set `[hidden] { display: none !important; }` so we also need the `!important` here to be able to override the default hidden behavior on the sphinx rendered scikit-learn.org. See: https://github.com/scikit-learn/scikit-learn/issues/21755 */display: inline-block !important;position: relative;}#sk-container-id-16 div.sk-text-repr-fallback {display: none;}</style><div id=\"sk-container-id-16\" class=\"sk-top-container\"><div class=\"sk-text-repr-fallback\"><pre>RandomizedSearchCV(cv=KFold(n_splits=5, random_state=None, shuffle=False),\n",
       "                   estimator=RandomForestClassifier(), n_jobs=-1,\n",
       "                   param_distributions={&#x27;bootstrap&#x27;: [True, False],\n",
       "                                        &#x27;max_depth&#x27;: [2, 8, None],\n",
       "                                        &#x27;max_features&#x27;: [0.2, 0.6, 1.0],\n",
       "                                        &#x27;max_samples&#x27;: [0.5, 0.75, 1.0],\n",
       "                                        &#x27;min_samples_leaf&#x27;: [1, 2],\n",
       "                                        &#x27;min_samples_split&#x27;: [2, 5],\n",
       "                                        &#x27;n_estimators&#x27;: [20, 60, 100, 120]},\n",
       "                   scoring=&#x27;accuracy&#x27;)</pre><b>In a Jupyter environment, please rerun this cell to show the HTML representation or trust the notebook. <br />On GitHub, the HTML representation is unable to render, please try loading this page with nbviewer.org.</b></div><div class=\"sk-container\" hidden><div class=\"sk-item sk-dashed-wrapped\"><div class=\"sk-label-container\"><div class=\"sk-label sk-toggleable\"><input class=\"sk-toggleable__control sk-hidden--visually\" id=\"sk-estimator-id-42\" type=\"checkbox\" ><label for=\"sk-estimator-id-42\" class=\"sk-toggleable__label sk-toggleable__label-arrow\">RandomizedSearchCV</label><div class=\"sk-toggleable__content\"><pre>RandomizedSearchCV(cv=KFold(n_splits=5, random_state=None, shuffle=False),\n",
       "                   estimator=RandomForestClassifier(), n_jobs=-1,\n",
       "                   param_distributions={&#x27;bootstrap&#x27;: [True, False],\n",
       "                                        &#x27;max_depth&#x27;: [2, 8, None],\n",
       "                                        &#x27;max_features&#x27;: [0.2, 0.6, 1.0],\n",
       "                                        &#x27;max_samples&#x27;: [0.5, 0.75, 1.0],\n",
       "                                        &#x27;min_samples_leaf&#x27;: [1, 2],\n",
       "                                        &#x27;min_samples_split&#x27;: [2, 5],\n",
       "                                        &#x27;n_estimators&#x27;: [20, 60, 100, 120]},\n",
       "                   scoring=&#x27;accuracy&#x27;)</pre></div></div></div><div class=\"sk-parallel\"><div class=\"sk-parallel-item\"><div class=\"sk-item\"><div class=\"sk-label-container\"><div class=\"sk-label sk-toggleable\"><input class=\"sk-toggleable__control sk-hidden--visually\" id=\"sk-estimator-id-43\" type=\"checkbox\" ><label for=\"sk-estimator-id-43\" class=\"sk-toggleable__label sk-toggleable__label-arrow\">estimator: RandomForestClassifier</label><div class=\"sk-toggleable__content\"><pre>RandomForestClassifier()</pre></div></div></div><div class=\"sk-serial\"><div class=\"sk-item\"><div class=\"sk-estimator sk-toggleable\"><input class=\"sk-toggleable__control sk-hidden--visually\" id=\"sk-estimator-id-44\" type=\"checkbox\" ><label for=\"sk-estimator-id-44\" class=\"sk-toggleable__label sk-toggleable__label-arrow\">RandomForestClassifier</label><div class=\"sk-toggleable__content\"><pre>RandomForestClassifier()</pre></div></div></div></div></div></div></div></div></div></div>"
      ],
      "text/plain": [
       "RandomizedSearchCV(cv=KFold(n_splits=5, random_state=None, shuffle=False),\n",
       "                   estimator=RandomForestClassifier(), n_jobs=-1,\n",
       "                   param_distributions={'bootstrap': [True, False],\n",
       "                                        'max_depth': [2, 8, None],\n",
       "                                        'max_features': [0.2, 0.6, 1.0],\n",
       "                                        'max_samples': [0.5, 0.75, 1.0],\n",
       "                                        'min_samples_leaf': [1, 2],\n",
       "                                        'min_samples_split': [2, 5],\n",
       "                                        'n_estimators': [20, 60, 100, 120]},\n",
       "                   scoring='accuracy')"
      ]
     },
     "execution_count": 115,
     "metadata": {},
     "output_type": "execute_result"
    }
   ],
   "source": [
    "rf_grid.fit(X_train,y_train)"
   ]
  },
  {
   "cell_type": "code",
   "execution_count": 116,
   "id": "5bab88df",
   "metadata": {},
   "outputs": [
    {
     "data": {
      "text/plain": [
       "{'n_estimators': 100,\n",
       " 'min_samples_split': 5,\n",
       " 'min_samples_leaf': 1,\n",
       " 'max_samples': 0.75,\n",
       " 'max_features': 0.6,\n",
       " 'max_depth': 2,\n",
       " 'bootstrap': True}"
      ]
     },
     "execution_count": 116,
     "metadata": {},
     "output_type": "execute_result"
    }
   ],
   "source": [
    "rf_grid.best_params_"
   ]
  },
  {
   "cell_type": "code",
   "execution_count": 117,
   "id": "e157da81",
   "metadata": {},
   "outputs": [
    {
     "data": {
      "text/plain": [
       "0.9774928774928775"
      ]
     },
     "execution_count": 117,
     "metadata": {},
     "output_type": "execute_result"
    }
   ],
   "source": [
    "rf_grid.best_score_"
   ]
  }
 ],
 "metadata": {
  "kernelspec": {
   "display_name": "Python 3 (ipykernel)",
   "language": "python",
   "name": "python3"
  },
  "language_info": {
   "codemirror_mode": {
    "name": "ipython",
    "version": 3
   },
   "file_extension": ".py",
   "mimetype": "text/x-python",
   "name": "python",
   "nbconvert_exporter": "python",
   "pygments_lexer": "ipython3",
   "version": "3.11.4"
  }
 },
 "nbformat": 4,
 "nbformat_minor": 5
}
